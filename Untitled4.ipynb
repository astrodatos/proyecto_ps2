{
  "nbformat": 4,
  "nbformat_minor": 0,
  "metadata": {
    "colab": {
      "name": "Untitled4.ipynb",
      "version": "0.3.2",
      "provenance": [],
      "collapsed_sections": [],
      "include_colab_link": true
    },
    "kernelspec": {
      "name": "python3",
      "display_name": "Python 3"
    }
  },
  "cells": [
    {
      "cell_type": "markdown",
      "metadata": {
        "id": "view-in-github",
        "colab_type": "text"
      },
      "source": [
        "<a href=\"https://colab.research.google.com/github/astrodatos/proyecto_ps2/blob/master/Untitled4.ipynb\" target=\"_parent\"><img src=\"https://colab.research.google.com/assets/colab-badge.svg\" alt=\"Open In Colab\"/></a>"
      ]
    },
    {
      "cell_type": "code",
      "metadata": {
        "id": "GMK3SffZnnW2",
        "colab_type": "code",
        "outputId": "1c78a960-e50e-4aa6-9309-865265f4fb96",
        "colab": {
          "base_uri": "https://localhost:8080/",
          "height": 676
        }
      },
      "source": [
        "import numpy as np\n",
        "import os\n",
        "import matplotlib.pyplot as plt\n",
        "import seaborn as sns\n",
        "import sklearn as sk\n",
        "import pandas as pd\n",
        "from math import *\n",
        "import random\n",
        "from astropy.constants import G\n",
        "import seaborn as sb\n",
        "from sklearn.cluster import KMeans\n",
        "from sklearn import datasets\n",
        "from sklearn import metrics\n",
        "from sklearn.metrics import pairwise_distances_argmin_min\n",
        "from sklearn.datasets.samples_generator import make_blobs\n",
        "!pip install astroquery"
      ],
      "execution_count": 0,
      "outputs": [
        {
          "output_type": "stream",
          "text": [
            "Collecting astroquery\n",
            "\u001b[?25l  Downloading https://files.pythonhosted.org/packages/61/50/a7a08f9e54d7d9d97e69433cd88231e1ad2901811c9d1ae9ac7ccaef9396/astroquery-0.3.9.tar.gz (4.2MB)\n",
            "\u001b[K     |████████████████████████████████| 4.2MB 5.0MB/s \n",
            "\u001b[?25hRequirement already satisfied: astropy>=1.0 in /usr/local/lib/python3.6/dist-packages (from astroquery) (3.0.5)\n",
            "Requirement already satisfied: requests>=2.4.3 in /usr/local/lib/python3.6/dist-packages (from astroquery) (2.21.0)\n",
            "Collecting keyring>=4.0 (from astroquery)\n",
            "  Downloading https://files.pythonhosted.org/packages/6e/b3/b4d443d2e30c00cdb73612426222172182e54359545cfb17774792619e49/keyring-19.0.2-py2.py3-none-any.whl\n",
            "Requirement already satisfied: beautifulsoup4>=4.3.2 in /usr/local/lib/python3.6/dist-packages (from astroquery) (4.6.3)\n",
            "Requirement already satisfied: html5lib>=0.999 in /usr/local/lib/python3.6/dist-packages (from astroquery) (1.0.1)\n",
            "Requirement already satisfied: numpy>=1.10.0 in /usr/local/lib/python3.6/dist-packages (from astropy>=1.0->astroquery) (1.16.4)\n",
            "Requirement already satisfied: certifi>=2017.4.17 in /usr/local/lib/python3.6/dist-packages (from requests>=2.4.3->astroquery) (2019.6.16)\n",
            "Requirement already satisfied: chardet<3.1.0,>=3.0.2 in /usr/local/lib/python3.6/dist-packages (from requests>=2.4.3->astroquery) (3.0.4)\n",
            "Requirement already satisfied: idna<2.9,>=2.5 in /usr/local/lib/python3.6/dist-packages (from requests>=2.4.3->astroquery) (2.8)\n",
            "Requirement already satisfied: urllib3<1.25,>=1.21.1 in /usr/local/lib/python3.6/dist-packages (from requests>=2.4.3->astroquery) (1.24.3)\n",
            "Collecting secretstorage; sys_platform == \"linux\" (from keyring>=4.0->astroquery)\n",
            "  Downloading https://files.pythonhosted.org/packages/82/59/cb226752e20d83598d7fdcabd7819570b0329a61db07cfbdd21b2ef546e3/SecretStorage-3.1.1-py3-none-any.whl\n",
            "Requirement already satisfied: entrypoints in /usr/local/lib/python3.6/dist-packages (from keyring>=4.0->astroquery) (0.3)\n",
            "Requirement already satisfied: six>=1.9 in /usr/local/lib/python3.6/dist-packages (from html5lib>=0.999->astroquery) (1.12.0)\n",
            "Requirement already satisfied: webencodings in /usr/local/lib/python3.6/dist-packages (from html5lib>=0.999->astroquery) (0.5.1)\n",
            "Collecting jeepney (from secretstorage; sys_platform == \"linux\"->keyring>=4.0->astroquery)\n",
            "\u001b[?25l  Downloading https://files.pythonhosted.org/packages/2b/f7/ff23b9b59534f501d47c327576aadda59da5b83d76ff837e6075bc325b9f/jeepney-0.4-py3-none-any.whl (59kB)\n",
            "\u001b[K     |████████████████████████████████| 61kB 21.7MB/s \n",
            "\u001b[?25hCollecting cryptography (from secretstorage; sys_platform == \"linux\"->keyring>=4.0->astroquery)\n",
            "\u001b[?25l  Downloading https://files.pythonhosted.org/packages/97/18/c6557f63a6abde34707196fb2cad1c6dc0dbff25a200d5044922496668a4/cryptography-2.7-cp34-abi3-manylinux1_x86_64.whl (2.3MB)\n",
            "\u001b[K     |████████████████████████████████| 2.3MB 37.0MB/s \n",
            "\u001b[?25hRequirement already satisfied: cffi!=1.11.3,>=1.8 in /usr/local/lib/python3.6/dist-packages (from cryptography->secretstorage; sys_platform == \"linux\"->keyring>=4.0->astroquery) (1.12.3)\n",
            "Collecting asn1crypto>=0.21.0 (from cryptography->secretstorage; sys_platform == \"linux\"->keyring>=4.0->astroquery)\n",
            "\u001b[?25l  Downloading https://files.pythonhosted.org/packages/ea/cd/35485615f45f30a510576f1a56d1e0a7ad7bd8ab5ed7cdc600ef7cd06222/asn1crypto-0.24.0-py2.py3-none-any.whl (101kB)\n",
            "\u001b[K     |████████████████████████████████| 102kB 30.6MB/s \n",
            "\u001b[?25hRequirement already satisfied: pycparser in /usr/local/lib/python3.6/dist-packages (from cffi!=1.11.3,>=1.8->cryptography->secretstorage; sys_platform == \"linux\"->keyring>=4.0->astroquery) (2.19)\n",
            "Building wheels for collected packages: astroquery\n",
            "  Building wheel for astroquery (setup.py) ... \u001b[?25l\u001b[?25hdone\n",
            "  Stored in directory: /root/.cache/pip/wheels/8a/d1/1e/4124d9ef35e2bbfbaa284c97dd49d9babbab42d966c4bea190\n",
            "Successfully built astroquery\n",
            "Installing collected packages: jeepney, asn1crypto, cryptography, secretstorage, keyring, astroquery\n",
            "Successfully installed asn1crypto-0.24.0 astroquery-0.3.9 cryptography-2.7 jeepney-0.4 keyring-19.0.2 secretstorage-3.1.1\n"
          ],
          "name": "stdout"
        }
      ]
    },
    {
      "cell_type": "code",
      "metadata": {
        "id": "CKcfKArinnxy",
        "colab_type": "code",
        "outputId": "6ad2ea95-fb9f-41d6-f00f-1b3510b8a66e",
        "colab": {
          "base_uri": "https://localhost:8080/",
          "height": 1000
        }
      },
      "source": [
        "planetas=pd.read_csv(\"https://raw.githubusercontent.com/astrodatos/proyecto_ps2/master/compositepars_2019.07.07_14.34.43.csv\", comment = '#')\n",
        "print(planetas.info())"
      ],
      "execution_count": 0,
      "outputs": [
        {
          "output_type": "stream",
          "text": [
            "<class 'pandas.core.frame.DataFrame'>\n",
            "RangeIndex: 4009 entries, 0 to 4008\n",
            "Data columns (total 100 columns):\n",
            "fpl_hostname         4009 non-null object\n",
            "fpl_letter           4009 non-null object\n",
            "fpl_name             4009 non-null object\n",
            "fpl_controvflag      4009 non-null int64\n",
            "fpl_disc             4009 non-null int64\n",
            "fpl_orbper           3906 non-null float64\n",
            "fpl_orbpererr1       3771 non-null float64\n",
            "fpl_orbpererr2       3771 non-null float64\n",
            "fpl_orbperlim        3935 non-null float64\n",
            "fpl_smax             2508 non-null float64\n",
            "fpl_smaxerr1         1682 non-null float64\n",
            "fpl_smaxerr2         1681 non-null float64\n",
            "fpl_smaxlim          2548 non-null float64\n",
            "fpl_eccen            1510 non-null float64\n",
            "fpl_eccenerr1        1061 non-null float64\n",
            "fpl_eccenerr2        1061 non-null float64\n",
            "fpl_eccenlim         1710 non-null float64\n",
            "fpl_bmasse           3985 non-null float64\n",
            "fpl_bmasseerr1       1552 non-null float64\n",
            "fpl_bmasseerr2       1552 non-null float64\n",
            "fpl_bmasselim        3987 non-null float64\n",
            "fpl_bmassprov        3985 non-null object\n",
            "fpl_bmassreflink     3985 non-null object\n",
            "fpl_rade             3992 non-null float64\n",
            "fpl_radeerr1         3094 non-null float64\n",
            "fpl_radeerr2         3094 non-null float64\n",
            "fpl_radelim          3994 non-null float64\n",
            "fpl_dens             3908 non-null float64\n",
            "fpl_denserr1         624 non-null float64\n",
            "fpl_denserr2         624 non-null float64\n",
            "fpl_denslim          3919 non-null float64\n",
            "fpl_densreflink      3908 non-null object\n",
            "fpl_eqt              861 non-null float64\n",
            "fpl_eqterr1          747 non-null float64\n",
            "fpl_eqterr2          747 non-null float64\n",
            "fpl_eqtlim           1395 non-null float64\n",
            "fpl_eqtreflink       861 non-null object\n",
            "fpl_insol            2408 non-null float64\n",
            "fpl_insolerr1        2391 non-null float64\n",
            "fpl_insolerr2        2391 non-null float64\n",
            "fpl_insollim         3191 non-null float64\n",
            "fpl_insolreflink     2408 non-null object\n",
            "ra_str               4006 non-null object\n",
            "ra                   4006 non-null float64\n",
            "dec_str              4006 non-null object\n",
            "dec                  4006 non-null float64\n",
            "fst_posreflink       4006 non-null object\n",
            "fst_dist             4000 non-null float64\n",
            "fst_disterr1         3922 non-null float64\n",
            "fst_disterr2         3922 non-null float64\n",
            "fst_distlim          4000 non-null float64\n",
            "fst_distreflink      4000 non-null object\n",
            "fst_optmag           3922 non-null float64\n",
            "fst_optmagerr        912 non-null float64\n",
            "fst_optmaglim        3922 non-null float64\n",
            "fst_optmagband       3922 non-null object\n",
            "fst_optmagreflink    3922 non-null object\n",
            "fst_nirmag           3903 non-null float64\n",
            "fst_nirmagerr        3881 non-null float64\n",
            "fst_nirmaglim        3903 non-null float64\n",
            "fst_nirmagband       3903 non-null object\n",
            "fst_nirmagreflink    3903 non-null object\n",
            "fst_spt              1334 non-null object\n",
            "fst_sptreflink       1334 non-null object\n",
            "fst_teff             3919 non-null float64\n",
            "fst_tefferr1         3755 non-null float64\n",
            "fst_tefferr2         3724 non-null float64\n",
            "fst_tefflim          3954 non-null float64\n",
            "fst_teffreflink      3919 non-null object\n",
            "fst_logg             3764 non-null float64\n",
            "fst_loggerr1         3620 non-null float64\n",
            "fst_loggerr2         3621 non-null float64\n",
            "fst_logglim          3873 non-null float64\n",
            "fst_loggreflink      3764 non-null object\n",
            "fst_lum              3901 non-null float64\n",
            "fst_lumerr1          3666 non-null float64\n",
            "fst_lumerr2          3652 non-null float64\n",
            "fst_lumlim           3940 non-null float64\n",
            "fst_lumreflink       3901 non-null object\n",
            "fst_mass             3995 non-null float64\n",
            "fst_masserr1         3772 non-null float64\n",
            "fst_masserr2         3742 non-null float64\n",
            "fst_masslim          3995 non-null float64\n",
            "fst_massreflink      3995 non-null object\n",
            "fst_rad              3892 non-null float64\n",
            "fst_raderr1          3760 non-null float64\n",
            "fst_raderr2          3731 non-null float64\n",
            "fst_radlim           3930 non-null float64\n",
            "fst_radreflink       3892 non-null object\n",
            "fst_met              3783 non-null float64\n",
            "fst_meterr1          3372 non-null float64\n",
            "fst_meterr2          3372 non-null float64\n",
            "fst_metlim           3882 non-null float64\n",
            "fst_metratio         3760 non-null object\n",
            "fst_metreflink       3783 non-null object\n",
            "fst_age              3375 non-null float64\n",
            "fst_ageerr1          3176 non-null float64\n",
            "fst_ageerr2          3176 non-null float64\n",
            "fst_agelim           3724 non-null float64\n",
            "fst_agereflink       3375 non-null object\n",
            "dtypes: float64(72), int64(2), object(26)\n",
            "memory usage: 3.1+ MB\n",
            "None\n"
          ],
          "name": "stdout"
        }
      ]
    },
    {
      "cell_type": "code",
      "metadata": {
        "id": "2XY0HjLgcRK7",
        "colab_type": "code",
        "colab": {}
      },
      "source": [
        ""
      ],
      "execution_count": 0,
      "outputs": []
    },
    {
      "cell_type": "code",
      "metadata": {
        "id": "dqOW0tVNnn18",
        "colab_type": "code",
        "outputId": "45417139-3ac2-43fb-a39f-abefe03e83dc",
        "colab": {
          "base_uri": "https://localhost:8080/",
          "height": 1000
        }
      },
      "source": [
        "planetas = pd.DataFrame(planetas)\n",
        "Ts = 5700 #K\n",
        "ai = 2.7619 * 10**(-5)\n",
        "bi = 3.8095 * 10**(-9)\n",
        "ao = 1.3786 * 10**(-4)\n",
        "bo = 1.4286 * 10**(-9)\n",
        "ris = 0.72\n",
        "ros = 1.77\n",
        "planetas = planetas.filter(['fpl_orbper','fpl_bmasse','fst_mass','fst_teff','fst_lum'], axis=1)\n",
        "planetas = planetas.dropna()\n",
        "Teff = planetas['fst_teff']\n",
        "lum = 10**(planetas['fst_lum'])\n",
        "T = planetas['fpl_orbper']\n",
        "m = planetas['fpl_bmasse']\n",
        "M = planetas['fst_mass']\n",
        "suma = M + m\n",
        "r = np.array(((G*suma*(T)**2)/(4*(pi)**2))**(1/3))\n",
        "resta = Teff - Ts\n",
        "\n",
        "#Distancia del borde más lejano de la zona habitable a la estrella, en UA\n",
        "Ri = (ris - ai*resta - bi*(resta)**2)/np.sqrt(lum)\n",
        "#Distancia del borde más cercano de la zona habitable a la estrella, en UA\n",
        "Ro = (ros - ao*resta - bo*(resta)**2)/np.sqrt(lum)\n",
        "#índice de habitabilidad \n",
        "resta1 = Ro - Ri\n",
        "resta2 = 2*r - Ro - Ri\n",
        "HDZ = resta2/resta1\n",
        "\n",
        "\n",
        "planetas['HDZ'] = HDZ\n",
        "mask_1 = -1<=planetas['HDZ'] \n",
        "mask_2 = planetas['HDZ'] <= 1\n",
        "booleanos = np.logical_and(mask_1, mask_2)\n",
        "booleanos = booleanos.astype(int)\n",
        "planetas['Habitabilidad'] = booleanos\n",
        "print(planetas)\n",
        "\n",
        "habitables = planetas[(-1<=(planetas['HDZ']))|((planetas['HDZ'])<=1)]\n"
      ],
      "execution_count": 0,
      "outputs": [
        {
          "output_type": "stream",
          "text": [
            "        fpl_orbper  fpl_bmasse  fst_mass  ...  fst_lum       HDZ  Habitabilidad\n",
            "0       326.030000   6165.6000      2.70  ...    2.243  0.081433              1\n",
            "1       516.219970   4684.8142      2.78  ...    2.430  1.218163              0\n",
            "2       185.840000   1525.5000      2.20  ...    1.763 -1.698284              0\n",
            "3      1773.400020   1481.0878      0.90  ...   -0.151 -2.031467              0\n",
            "4       798.500000    565.7374      1.08  ...    0.100 -2.193690              0\n",
            "5       993.300000   3273.5000      2.30  ...    1.602 -0.335040              1\n",
            "7        30.350600    289.2253      0.99  ...    1.774 -2.193579              0\n",
            "8       452.800000    632.4600      1.54  ...    1.164 -1.903594              0\n",
            "9       883.000000    273.3200      1.54  ...    1.164 -1.828770              0\n",
            "14      416.000000    603.8770      0.48  ...    0.168 -2.498228              0\n",
            "15     7336.500000   6657.4800      0.08  ...   -3.480 -2.038969              0\n",
            "17      335.100010   4392.4106      1.93  ...    0.381 -2.131232              0\n",
            "18      269.300000   2256.5000      1.23  ...    2.062 -1.082408              0\n",
            "19      479.100000   1233.1300      0.98  ...    2.155 -0.701225              1\n",
            "20     1078.000000    804.0800      1.03  ...    0.216 -2.098526              0\n",
            "21     2391.000000    171.6210      1.03  ...    0.216 -2.093300              0\n",
            "22    14002.000000    521.2200      1.03  ...    0.216 -0.999808              1\n",
            "23    14965.000000    635.6600      1.75  ...    0.850  1.213543              0\n",
            "24        4.230785    146.2018      1.12  ...    0.147 -2.376171              0\n",
            "25       14.651520    263.9785      0.91  ...   -0.235 -2.318893              0\n",
            "26       44.417500     54.4738      0.91  ...   -0.235 -2.317356              0\n",
            "27     4825.000000   1232.4930      0.91  ...   -0.235 -1.821997              0\n",
            "28        0.736539      8.0800      0.91  ...   -0.235 -2.324933              0\n",
            "29      262.000000     44.8120      0.91  ...   -0.235 -2.301152              0\n",
            "30      934.300000    638.8383      1.44  ...    1.156 -1.647317              0\n",
            "31        4.215000      5.1000      0.94  ...   -0.095 -2.359223              0\n",
            "32       38.021000     18.2000      0.94  ...   -0.095 -2.354104              0\n",
            "33      123.010000     22.9000      0.94  ...   -0.095 -2.345883              0\n",
            "34      796.000000    781.8618      1.52  ...    1.053 -1.737634              0\n",
            "35      116.688000   2380.4500      1.09  ...    0.487 -2.228586              0\n",
            "...            ...         ...       ...  ...      ...       ...            ...\n",
            "3978    522.300000   1938.7000      1.40  ...    2.730  1.406043              0\n",
            "3979    417.900000   2129.4610      1.70  ...    2.235 -0.375297              1\n",
            "3980   2502.000000    492.6365      0.83  ...   -0.419 -2.127230              0\n",
            "3981    594.900000   2415.4060      2.70  ...    1.987 -0.342632              1\n",
            "3982    428.500000   2790.4300      1.23  ...    2.510  0.599863              1\n",
            "3983    903.300000    587.9600      1.40  ...    1.073 -1.728955              0\n",
            "3984    415.200000    324.1866      1.47  ...    1.850 -1.622509              0\n",
            "3985    964.600000   1455.6614      1.47  ...    1.850 -0.359142              1\n",
            "3986    511.098000   2803.1000      1.05  ...    1.820 -0.787242              1\n",
            "3988   1285.000000    689.6911      1.50  ...    1.105 -1.517941              0\n",
            "3989    357.800000    762.8000      1.50  ...    1.797 -1.528930              0\n",
            "3990    530.320000   7627.9200      3.04  ...    2.090  0.698708              1\n",
            "3991   3186.000000   8581.4100      3.04  ...    2.090  8.007972              0\n",
            "3992    277.020000    540.3000      2.17  ...    1.850 -1.684241              0\n",
            "3993    187.830000    476.7450      2.13  ...    1.709 -1.906081              0\n",
            "3994   1630.000000   1303.1030      3.09  ...    2.140  1.519886              0\n",
            "3995      6.267900      4.8200      1.09  ...    0.160 -2.400387              0\n",
            "3996   3117.000000    486.2799      1.19  ...    0.326 -1.832218              0\n",
            "3997     39.845800    332.1000      0.89  ...    0.232 -2.340971              0\n",
            "3998    102.540000     25.0000      0.89  ...    0.232 -2.345692              0\n",
            "3999      3.312457   1891.0000      1.34  ...    0.535 -2.422463              0\n",
            "4000    162.870000      3.9300      0.78  ...   -0.305 -2.328021              0\n",
            "4001    636.130000      3.9300      0.78  ...   -0.305 -2.316672              0\n",
            "4002     20.000000      1.7500      0.78  ...   -0.305 -2.334149              0\n",
            "4003     49.410000      1.8300      0.78  ...   -0.305 -2.332846              0\n",
            "4004    305.500000   6547.0000      2.30  ...    2.519  0.815107              1\n",
            "4005      4.617033    218.5310      1.30  ...    0.561 -2.407725              0\n",
            "4006    241.258000    629.5950      1.30  ...    0.561 -2.263873              0\n",
            "4007   1276.460000   1313.2200      1.30  ...    0.561 -1.827901              0\n",
            "4008    136.750000    890.0000      2.20  ...    1.839 -1.848394              0\n",
            "\n",
            "[3849 rows x 7 columns]\n"
          ],
          "name": "stdout"
        }
      ]
    },
    {
      "cell_type": "code",
      "metadata": {
        "id": "yLrWP2Mmnn4o",
        "colab_type": "code",
        "outputId": "1ebe1907-c84a-4f61-c5a8-5323be59b70d",
        "colab": {
          "base_uri": "https://localhost:8080/",
          "height": 638
        }
      },
      "source": [
        "#Hisotgrama de índice de habitabilidad \n",
        "plt.figure(figsize = (10,10))\n",
        "plt.hist(planetas['HDZ'])\n",
        "plt.xlabel('índice de habitabilidad')\n",
        "plt.ylabel('Cantidad de planetas')\n",
        "plt.title('Planetas y su habitabilidad')"
      ],
      "execution_count": 0,
      "outputs": [
        {
          "output_type": "execute_result",
          "data": {
            "text/plain": [
              "Text(0.5, 1.0, 'Planetas y su habitabilidad')"
            ]
          },
          "metadata": {
            "tags": []
          },
          "execution_count": 5
        },
        {
          "output_type": "display_data",
          "data": {
            "image/png": "[encoded data removed]",
            "text/plain": [
              "<Figure size 720x720 with 1 Axes>"
            ]
          },
          "metadata": {
            "tags": []
          }
        }
      ]
    },
    {
      "cell_type": "code",
      "metadata": {
        "id": "EzCEXR2pnn67",
        "colab_type": "code",
        "outputId": "3627a421-1588-4bdc-ef9c-308502f5ce87",
        "colab": {
          "base_uri": "https://localhost:8080/",
          "height": 638
        }
      },
      "source": [
        "#Histograma de los planetas habitables\n",
        "plt.figure(figsize = (10,10))\n",
        "plt.hist(booleanos)\n",
        "plt.xlabel('índice de habitabilidad')\n",
        "plt.ylabel('Cantidad de planetas')\n",
        "plt.title('Planetas habitables')"
      ],
      "execution_count": 0,
      "outputs": [
        {
          "output_type": "execute_result",
          "data": {
            "text/plain": [
              "Text(0.5, 1.0, 'Planetas habitables')"
            ]
          },
          "metadata": {
            "tags": []
          },
          "execution_count": 6
        },
        {
          "output_type": "display_data",
          "data": {
            "image/png": "[encoded data removed]",
            "text/plain": [
              "<Figure size 720x720 with 1 Axes>"
            ]
          },
          "metadata": {
            "tags": []
          }
        }
      ]
    },
    {
      "cell_type": "code",
      "metadata": {
        "id": "McXmRxLbnn9d",
        "colab_type": "code",
        "outputId": "821f7e06-724c-4356-92e0-ec3684253bd4",
        "colab": {
          "base_uri": "https://localhost:8080/",
          "height": 1000
        }
      },
      "source": [
        "print (planetas.head)"
      ],
      "execution_count": 0,
      "outputs": [
        {
          "output_type": "stream",
          "text": [
            "<bound method NDFrame.head of         fpl_orbper  fpl_bmasse  fst_mass  ...  fst_lum       HDZ  Habitabilidad\n",
            "0       326.030000   6165.6000      2.70  ...    2.243  0.081433              1\n",
            "1       516.219970   4684.8142      2.78  ...    2.430  1.218163              0\n",
            "2       185.840000   1525.5000      2.20  ...    1.763 -1.698284              0\n",
            "3      1773.400020   1481.0878      0.90  ...   -0.151 -2.031467              0\n",
            "4       798.500000    565.7374      1.08  ...    0.100 -2.193690              0\n",
            "5       993.300000   3273.5000      2.30  ...    1.602 -0.335040              1\n",
            "7        30.350600    289.2253      0.99  ...    1.774 -2.193579              0\n",
            "8       452.800000    632.4600      1.54  ...    1.164 -1.903594              0\n",
            "9       883.000000    273.3200      1.54  ...    1.164 -1.828770              0\n",
            "14      416.000000    603.8770      0.48  ...    0.168 -2.498228              0\n",
            "15     7336.500000   6657.4800      0.08  ...   -3.480 -2.038969              0\n",
            "17      335.100010   4392.4106      1.93  ...    0.381 -2.131232              0\n",
            "18      269.300000   2256.5000      1.23  ...    2.062 -1.082408              0\n",
            "19      479.100000   1233.1300      0.98  ...    2.155 -0.701225              1\n",
            "20     1078.000000    804.0800      1.03  ...    0.216 -2.098526              0\n",
            "21     2391.000000    171.6210      1.03  ...    0.216 -2.093300              0\n",
            "22    14002.000000    521.2200      1.03  ...    0.216 -0.999808              1\n",
            "23    14965.000000    635.6600      1.75  ...    0.850  1.213543              0\n",
            "24        4.230785    146.2018      1.12  ...    0.147 -2.376171              0\n",
            "25       14.651520    263.9785      0.91  ...   -0.235 -2.318893              0\n",
            "26       44.417500     54.4738      0.91  ...   -0.235 -2.317356              0\n",
            "27     4825.000000   1232.4930      0.91  ...   -0.235 -1.821997              0\n",
            "28        0.736539      8.0800      0.91  ...   -0.235 -2.324933              0\n",
            "29      262.000000     44.8120      0.91  ...   -0.235 -2.301152              0\n",
            "30      934.300000    638.8383      1.44  ...    1.156 -1.647317              0\n",
            "31        4.215000      5.1000      0.94  ...   -0.095 -2.359223              0\n",
            "32       38.021000     18.2000      0.94  ...   -0.095 -2.354104              0\n",
            "33      123.010000     22.9000      0.94  ...   -0.095 -2.345883              0\n",
            "34      796.000000    781.8618      1.52  ...    1.053 -1.737634              0\n",
            "35      116.688000   2380.4500      1.09  ...    0.487 -2.228586              0\n",
            "...            ...         ...       ...  ...      ...       ...            ...\n",
            "3978    522.300000   1938.7000      1.40  ...    2.730  1.406043              0\n",
            "3979    417.900000   2129.4610      1.70  ...    2.235 -0.375297              1\n",
            "3980   2502.000000    492.6365      0.83  ...   -0.419 -2.127230              0\n",
            "3981    594.900000   2415.4060      2.70  ...    1.987 -0.342632              1\n",
            "3982    428.500000   2790.4300      1.23  ...    2.510  0.599863              1\n",
            "3983    903.300000    587.9600      1.40  ...    1.073 -1.728955              0\n",
            "3984    415.200000    324.1866      1.47  ...    1.850 -1.622509              0\n",
            "3985    964.600000   1455.6614      1.47  ...    1.850 -0.359142              1\n",
            "3986    511.098000   2803.1000      1.05  ...    1.820 -0.787242              1\n",
            "3988   1285.000000    689.6911      1.50  ...    1.105 -1.517941              0\n",
            "3989    357.800000    762.8000      1.50  ...    1.797 -1.528930              0\n",
            "3990    530.320000   7627.9200      3.04  ...    2.090  0.698708              1\n",
            "3991   3186.000000   8581.4100      3.04  ...    2.090  8.007972              0\n",
            "3992    277.020000    540.3000      2.17  ...    1.850 -1.684241              0\n",
            "3993    187.830000    476.7450      2.13  ...    1.709 -1.906081              0\n",
            "3994   1630.000000   1303.1030      3.09  ...    2.140  1.519886              0\n",
            "3995      6.267900      4.8200      1.09  ...    0.160 -2.400387              0\n",
            "3996   3117.000000    486.2799      1.19  ...    0.326 -1.832218              0\n",
            "3997     39.845800    332.1000      0.89  ...    0.232 -2.340971              0\n",
            "3998    102.540000     25.0000      0.89  ...    0.232 -2.345692              0\n",
            "3999      3.312457   1891.0000      1.34  ...    0.535 -2.422463              0\n",
            "4000    162.870000      3.9300      0.78  ...   -0.305 -2.328021              0\n",
            "4001    636.130000      3.9300      0.78  ...   -0.305 -2.316672              0\n",
            "4002     20.000000      1.7500      0.78  ...   -0.305 -2.334149              0\n",
            "4003     49.410000      1.8300      0.78  ...   -0.305 -2.332846              0\n",
            "4004    305.500000   6547.0000      2.30  ...    2.519  0.815107              1\n",
            "4005      4.617033    218.5310      1.30  ...    0.561 -2.407725              0\n",
            "4006    241.258000    629.5950      1.30  ...    0.561 -2.263873              0\n",
            "4007   1276.460000   1313.2200      1.30  ...    0.561 -1.827901              0\n",
            "4008    136.750000    890.0000      2.20  ...    1.839 -1.848394              0\n",
            "\n",
            "[3849 rows x 7 columns]>\n"
          ],
          "name": "stdout"
        }
      ]
    },
    {
      "cell_type": "code",
      "metadata": {
        "id": "tBSiWqwlr1Rl",
        "colab_type": "code",
        "outputId": "821bc16c-3a7e-453e-9fdd-e9e1b3954af8",
        "colab": {
          "base_uri": "https://localhost:8080/",
          "height": 1000
        }
      },
      "source": [
        "planetas.describe"
      ],
      "execution_count": 0,
      "outputs": [
        {
          "output_type": "execute_result",
          "data": {
            "text/plain": [
              "<bound method NDFrame.describe of         fpl_orbper  fpl_bmasse  fst_mass  ...  fst_lum       HDZ  Habitabilidad\n",
              "0       326.030000   6165.6000      2.70  ...    2.243  0.081433              1\n",
              "1       516.219970   4684.8142      2.78  ...    2.430  1.218163              0\n",
              "2       185.840000   1525.5000      2.20  ...    1.763 -1.698284              0\n",
              "3      1773.400020   1481.0878      0.90  ...   -0.151 -2.031467              0\n",
              "4       798.500000    565.7374      1.08  ...    0.100 -2.193690              0\n",
              "5       993.300000   3273.5000      2.30  ...    1.602 -0.335040              1\n",
              "7        30.350600    289.2253      0.99  ...    1.774 -2.193579              0\n",
              "8       452.800000    632.4600      1.54  ...    1.164 -1.903594              0\n",
              "9       883.000000    273.3200      1.54  ...    1.164 -1.828770              0\n",
              "14      416.000000    603.8770      0.48  ...    0.168 -2.498228              0\n",
              "15     7336.500000   6657.4800      0.08  ...   -3.480 -2.038969              0\n",
              "17      335.100010   4392.4106      1.93  ...    0.381 -2.131232              0\n",
              "18      269.300000   2256.5000      1.23  ...    2.062 -1.082408              0\n",
              "19      479.100000   1233.1300      0.98  ...    2.155 -0.701225              1\n",
              "20     1078.000000    804.0800      1.03  ...    0.216 -2.098526              0\n",
              "21     2391.000000    171.6210      1.03  ...    0.216 -2.093300              0\n",
              "22    14002.000000    521.2200      1.03  ...    0.216 -0.999808              1\n",
              "23    14965.000000    635.6600      1.75  ...    0.850  1.213543              0\n",
              "24        4.230785    146.2018      1.12  ...    0.147 -2.376171              0\n",
              "25       14.651520    263.9785      0.91  ...   -0.235 -2.318893              0\n",
              "26       44.417500     54.4738      0.91  ...   -0.235 -2.317356              0\n",
              "27     4825.000000   1232.4930      0.91  ...   -0.235 -1.821997              0\n",
              "28        0.736539      8.0800      0.91  ...   -0.235 -2.324933              0\n",
              "29      262.000000     44.8120      0.91  ...   -0.235 -2.301152              0\n",
              "30      934.300000    638.8383      1.44  ...    1.156 -1.647317              0\n",
              "31        4.215000      5.1000      0.94  ...   -0.095 -2.359223              0\n",
              "32       38.021000     18.2000      0.94  ...   -0.095 -2.354104              0\n",
              "33      123.010000     22.9000      0.94  ...   -0.095 -2.345883              0\n",
              "34      796.000000    781.8618      1.52  ...    1.053 -1.737634              0\n",
              "35      116.688000   2380.4500      1.09  ...    0.487 -2.228586              0\n",
              "...            ...         ...       ...  ...      ...       ...            ...\n",
              "3978    522.300000   1938.7000      1.40  ...    2.730  1.406043              0\n",
              "3979    417.900000   2129.4610      1.70  ...    2.235 -0.375297              1\n",
              "3980   2502.000000    492.6365      0.83  ...   -0.419 -2.127230              0\n",
              "3981    594.900000   2415.4060      2.70  ...    1.987 -0.342632              1\n",
              "3982    428.500000   2790.4300      1.23  ...    2.510  0.599863              1\n",
              "3983    903.300000    587.9600      1.40  ...    1.073 -1.728955              0\n",
              "3984    415.200000    324.1866      1.47  ...    1.850 -1.622509              0\n",
              "3985    964.600000   1455.6614      1.47  ...    1.850 -0.359142              1\n",
              "3986    511.098000   2803.1000      1.05  ...    1.820 -0.787242              1\n",
              "3988   1285.000000    689.6911      1.50  ...    1.105 -1.517941              0\n",
              "3989    357.800000    762.8000      1.50  ...    1.797 -1.528930              0\n",
              "3990    530.320000   7627.9200      3.04  ...    2.090  0.698708              1\n",
              "3991   3186.000000   8581.4100      3.04  ...    2.090  8.007972              0\n",
              "3992    277.020000    540.3000      2.17  ...    1.850 -1.684241              0\n",
              "3993    187.830000    476.7450      2.13  ...    1.709 -1.906081              0\n",
              "3994   1630.000000   1303.1030      3.09  ...    2.140  1.519886              0\n",
              "3995      6.267900      4.8200      1.09  ...    0.160 -2.400387              0\n",
              "3996   3117.000000    486.2799      1.19  ...    0.326 -1.832218              0\n",
              "3997     39.845800    332.1000      0.89  ...    0.232 -2.340971              0\n",
              "3998    102.540000     25.0000      0.89  ...    0.232 -2.345692              0\n",
              "3999      3.312457   1891.0000      1.34  ...    0.535 -2.422463              0\n",
              "4000    162.870000      3.9300      0.78  ...   -0.305 -2.328021              0\n",
              "4001    636.130000      3.9300      0.78  ...   -0.305 -2.316672              0\n",
              "4002     20.000000      1.7500      0.78  ...   -0.305 -2.334149              0\n",
              "4003     49.410000      1.8300      0.78  ...   -0.305 -2.332846              0\n",
              "4004    305.500000   6547.0000      2.30  ...    2.519  0.815107              1\n",
              "4005      4.617033    218.5310      1.30  ...    0.561 -2.407725              0\n",
              "4006    241.258000    629.5950      1.30  ...    0.561 -2.263873              0\n",
              "4007   1276.460000   1313.2200      1.30  ...    0.561 -1.827901              0\n",
              "4008    136.750000    890.0000      2.20  ...    1.839 -1.848394              0\n",
              "\n",
              "[3849 rows x 7 columns]>"
            ]
          },
          "metadata": {
            "tags": []
          },
          "execution_count": 8
        }
      ]
    },
    {
      "cell_type": "code",
      "metadata": {
        "id": "VUDb3PtoshTJ",
        "colab_type": "code",
        "outputId": "4b504d71-6143-4f34-c626-f2ecb37d6389",
        "colab": {
          "base_uri": "https://localhost:8080/",
          "height": 287
        }
      },
      "source": [
        "planetaslimpio=planetas.dropna()\n",
        "planetaslimpio.describe()"
      ],
      "execution_count": 0,
      "outputs": [
        {
          "output_type": "execute_result",
          "data": {
            "text/html": [
              "<div>\n",
              "<style scoped>\n",
              "    .dataframe tbody tr th:only-of-type {\n",
              "        vertical-align: middle;\n",
              "    }\n",
              "\n",
              "    .dataframe tbody tr th {\n",
              "        vertical-align: top;\n",
              "    }\n",
              "\n",
              "    .dataframe thead th {\n",
              "        text-align: right;\n",
              "    }\n",
              "</style>\n",
              "<table border=\"1\" class=\"dataframe\">\n",
              "  <thead>\n",
              "    <tr style=\"text-align: right;\">\n",
              "      <th></th>\n",
              "      <th>fpl_orbper</th>\n",
              "      <th>fpl_bmasse</th>\n",
              "      <th>fst_mass</th>\n",
              "      <th>fst_teff</th>\n",
              "      <th>fst_lum</th>\n",
              "      <th>HDZ</th>\n",
              "      <th>Habitabilidad</th>\n",
              "    </tr>\n",
              "  </thead>\n",
              "  <tbody>\n",
              "    <tr>\n",
              "      <th>count</th>\n",
              "      <td>3.849000e+03</td>\n",
              "      <td>3849.000000</td>\n",
              "      <td>3849.000000</td>\n",
              "      <td>3849.000000</td>\n",
              "      <td>3849.000000</td>\n",
              "      <td>3849.000000</td>\n",
              "      <td>3849.000000</td>\n",
              "    </tr>\n",
              "    <tr>\n",
              "      <th>mean</th>\n",
              "      <td>2.350868e+03</td>\n",
              "      <td>373.038385</td>\n",
              "      <td>1.009865</td>\n",
              "      <td>5450.653058</td>\n",
              "      <td>-0.072823</td>\n",
              "      <td>-2.156964</td>\n",
              "      <td>0.012731</td>\n",
              "    </tr>\n",
              "    <tr>\n",
              "      <th>std</th>\n",
              "      <td>1.180429e+05</td>\n",
              "      <td>2128.526837</td>\n",
              "      <td>0.592780</td>\n",
              "      <td>1141.158984</td>\n",
              "      <td>0.693000</td>\n",
              "      <td>4.274143</td>\n",
              "      <td>0.112124</td>\n",
              "    </tr>\n",
              "    <tr>\n",
              "      <th>min</th>\n",
              "      <td>1.797150e-01</td>\n",
              "      <td>0.037400</td>\n",
              "      <td>0.020000</td>\n",
              "      <td>2300.000000</td>\n",
              "      <td>-3.480000</td>\n",
              "      <td>-26.228315</td>\n",
              "      <td>0.000000</td>\n",
              "    </tr>\n",
              "    <tr>\n",
              "      <th>25%</th>\n",
              "      <td>4.555700e+00</td>\n",
              "      <td>3.680000</td>\n",
              "      <td>0.830000</td>\n",
              "      <td>5021.000000</td>\n",
              "      <td>-0.423000</td>\n",
              "      <td>-2.382382</td>\n",
              "      <td>0.000000</td>\n",
              "    </tr>\n",
              "    <tr>\n",
              "      <th>50%</th>\n",
              "      <td>1.189810e+01</td>\n",
              "      <td>7.750000</td>\n",
              "      <td>0.970000</td>\n",
              "      <td>5594.000000</td>\n",
              "      <td>-0.050000</td>\n",
              "      <td>-2.347502</td>\n",
              "      <td>0.000000</td>\n",
              "    </tr>\n",
              "    <tr>\n",
              "      <th>75%</th>\n",
              "      <td>4.169778e+01</td>\n",
              "      <td>126.496340</td>\n",
              "      <td>1.120000</td>\n",
              "      <td>5913.000000</td>\n",
              "      <td>0.324000</td>\n",
              "      <td>-2.277850</td>\n",
              "      <td>0.000000</td>\n",
              "    </tr>\n",
              "    <tr>\n",
              "      <th>max</th>\n",
              "      <td>7.300000e+06</td>\n",
              "      <td>45700.000000</td>\n",
              "      <td>23.560000</td>\n",
              "      <td>40000.000000</td>\n",
              "      <td>3.095000</td>\n",
              "      <td>244.680893</td>\n",
              "      <td>1.000000</td>\n",
              "    </tr>\n",
              "  </tbody>\n",
              "</table>\n",
              "</div>"
            ],
            "text/plain": [
              "         fpl_orbper    fpl_bmasse  ...          HDZ  Habitabilidad\n",
              "count  3.849000e+03   3849.000000  ...  3849.000000    3849.000000\n",
              "mean   2.350868e+03    373.038385  ...    -2.156964       0.012731\n",
              "std    1.180429e+05   2128.526837  ...     4.274143       0.112124\n",
              "min    1.797150e-01      0.037400  ...   -26.228315       0.000000\n",
              "25%    4.555700e+00      3.680000  ...    -2.382382       0.000000\n",
              "50%    1.189810e+01      7.750000  ...    -2.347502       0.000000\n",
              "75%    4.169778e+01    126.496340  ...    -2.277850       0.000000\n",
              "max    7.300000e+06  45700.000000  ...   244.680893       1.000000\n",
              "\n",
              "[8 rows x 7 columns]"
            ]
          },
          "metadata": {
            "tags": []
          },
          "execution_count": 9
        }
      ]
    },
    {
      "cell_type": "code",
      "metadata": {
        "id": "sqE852XPcLjO",
        "colab_type": "code",
        "colab": {}
      },
      "source": [
        "X = np.array(planetas.iloc[:,:-1])\n",
        "y = np.array(planetas[\"Habitabilidad\"])"
      ],
      "execution_count": 0,
      "outputs": []
    },
    {
      "cell_type": "code",
      "metadata": {
        "id": "ckkzMO72cLmZ",
        "colab_type": "code",
        "colab": {}
      },
      "source": [
        "from sklearn.model_selection import train_test_split\n",
        "from sklearn.tree import DecisionTreeClassifier\n",
        "import sklearn.metrics\n",
        "from sklearn.ensemble import ExtraTreesClassifier\n",
        "\n",
        "\n",
        "X_train, X_test, y_train, y_test = train_test_split(X, y, test_size=0.43, random_state=9)  "
      ],
      "execution_count": 0,
      "outputs": []
    },
    {
      "cell_type": "code",
      "metadata": {
        "id": "B1Kln6hpOocj",
        "colab_type": "code",
        "outputId": "4791b1fa-f515-4f12-e15a-039322f446a6",
        "colab": {
          "base_uri": "https://localhost:8080/",
          "height": 52
        }
      },
      "source": [
        "from sklearn.ensemble import RandomForestRegressor\n",
        "\n",
        "regressor = RandomForestClassifier()  \n",
        "regressor.fit(X_train, y_train)  \n",
        "y_pred = regressor.predict(X_test)\n"
      ],
      "execution_count": 0,
      "outputs": [
        {
          "output_type": "stream",
          "text": [
            "/usr/local/lib/python3.6/dist-packages/sklearn/ensemble/forest.py:245: FutureWarning: The default value of n_estimators will change from 10 in version 0.20 to 100 in 0.22.\n",
            "  \"10 in version 0.20 to 100 in 0.22.\", FutureWarning)\n"
          ],
          "name": "stderr"
        }
      ]
    },
    {
      "cell_type": "code",
      "metadata": {
        "id": "BmsA6RmqOsWA",
        "colab_type": "code",
        "outputId": "ed7073f2-af85-4db6-fe37-f72f0c4ac83e",
        "colab": {
          "base_uri": "https://localhost:8080/",
          "height": 70
        }
      },
      "source": [
        "from sklearn import metrics\n",
        "\n",
        "print('Mean Absolute Error:', metrics.mean_absolute_error(y_test, y_pred))  \n",
        "print('Mean Squared Error:', metrics.mean_squared_error(y_test, y_pred))  \n",
        "print('Root Mean Squared Error:', np.sqrt(metrics.mean_squared_error(y_test, y_pred))) "
      ],
      "execution_count": 0,
      "outputs": [
        {
          "output_type": "stream",
          "text": [
            "Mean Absolute Error: 0.0030193236714975845\n",
            "Mean Squared Error: 0.0030193236714975845\n",
            "Root Mean Squared Error: 0.05494837278298225\n"
          ],
          "name": "stdout"
        }
      ]
    },
    {
      "cell_type": "code",
      "metadata": {
        "id": "OzzC7D0dR1kO",
        "colab_type": "code",
        "outputId": "61d15871-3eb0-4df7-d42f-679a457202a3",
        "colab": {
          "base_uri": "https://localhost:8080/",
          "height": 52
        }
      },
      "source": [
        "from sklearn.metrics import confusion_matrix\n",
        "\n",
        "confusion_matrix(y_test,y_pred)"
      ],
      "execution_count": 0,
      "outputs": [
        {
          "output_type": "execute_result",
          "data": {
            "text/plain": [
              "array([[1631,    3],\n",
              "       [   2,   20]])"
            ]
          },
          "metadata": {
            "tags": []
          },
          "execution_count": 172
        }
      ]
    },
    {
      "cell_type": "code",
      "metadata": {
        "id": "sEE24TZUebv8",
        "colab_type": "code",
        "colab": {}
      },
      "source": [
        "\n",
        "from sklearn.utils.multiclass import unique_labels\n",
        "\n",
        "\n",
        "def plot_confusion_matrix(y_true, y_pred, classes,\n",
        "                          normalize=False,\n",
        "                          title=None,\n",
        "                          cmap=plt.cm.Blues):\n",
        "    \"\"\"\n",
        "    This function prints and plots the confusion matrix.\n",
        "    Normalization can be applied by setting `normalize=True`.\n",
        "    \"\"\"\n",
        "    if not title:\n",
        "        if normalize:\n",
        "            title = 'Matriz de confusion normalizada'\n",
        "        else:\n",
        "            title = 'Matriz de confusion, sin normalizacion'\n",
        "\n",
        "    # Compute confusion matrix\n",
        "    cm = confusion_matrix(y_true, y_pred)\n",
        "    # Only use the labels that appear in the data\n",
        "    classes = classes[unique_labels(y_true, y_pred)]\n",
        "    if normalize:\n",
        "        cm = cm.astype('float') / cm.sum(axis=1)[:, np.newaxis]\n",
        "        print(\"Matriz de confusion normalizada\")\n",
        "    else:\n",
        "        print('Matriz de confusion, sin normalizacion')\n",
        "\n",
        "    print(cm)\n",
        "\n",
        "    fig, ax = plt.subplots(figsize = (8,8))\n",
        "    im = ax.imshow(cm, interpolation='nearest', cmap=cmap)\n",
        "    ax.figure.colorbar(im, ax=ax)\n",
        "    # We want to show all ticks...\n",
        "    ax.set(xticks=np.arange(cm.shape[1]),\n",
        "           yticks=np.arange(cm.shape[0]),\n",
        "           # ... and label them with the respective list entries\n",
        "           xticklabels=classes, yticklabels=classes,\n",
        "           title=title,\n",
        "           ylabel='Etiqueta Real',\n",
        "           xlabel='Etiqueta Predicha')\n",
        "\n",
        "    # Rotate the tick labels and set their alignment.\n",
        "    plt.setp(ax.get_xticklabels(), rotation=45, ha=\"right\",\n",
        "             rotation_mode=\"anchor\", fontsize=15)\n",
        "\n",
        "    # Loop over data dimensions and create text annotations.\n",
        "    fmt = '.2f' if normalize else 'd'\n",
        "    thresh = cm.max() / 2.\n",
        "    for i in range(cm.shape[0]):\n",
        "        for j in range(cm.shape[1]):\n",
        "            ax.text(j, i, format(cm[i, j], fmt), fontsize=25,\n",
        "                    ha=\"center\", va=\"center\",\n",
        "                    color=\"white\" if cm[i, j] > thresh else \"black\")\n",
        "            \n",
        "    ax.grid(False)\n",
        "    fig.tight_layout()\n",
        "    return ax\n",
        "\n"
      ],
      "execution_count": 0,
      "outputs": []
    },
    {
      "cell_type": "code",
      "metadata": {
        "id": "IOueJdk4eibJ",
        "colab_type": "code",
        "outputId": "528a14e6-ba45-4dd1-ec26-98ff49ee8739",
        "colab": {
          "base_uri": "https://localhost:8080/",
          "height": 655
        }
      },
      "source": [
        "np.set_printoptions(precision=2)\n",
        "\n",
        "# Plot non-normalized confusion matrix\n",
        "plot_confusion_matrix(y_test, y_pred, classes=planetas[\"Habitabilidad\"],\n",
        "                      title='Matriz de confusion, sin normalizacion')"
      ],
      "execution_count": 0,
      "outputs": [
        {
          "output_type": "stream",
          "text": [
            "Matriz de confusion, sin normalizacion\n",
            "[[1631    3]\n",
            " [   2   20]]\n"
          ],
          "name": "stdout"
        },
        {
          "output_type": "execute_result",
          "data": {
            "text/plain": [
              "<matplotlib.axes._subplots.AxesSubplot at 0x7f19563b1898>"
            ]
          },
          "metadata": {
            "tags": []
          },
          "execution_count": 174
        },
        {
          "output_type": "display_data",
          "data": {
            "image/png": "[encoded data removed]",
            "text/plain": [
              "<Figure size 576x576 with 2 Axes>"
            ]
          },
          "metadata": {
            "tags": []
          }
        }
      ]
    },
    {
      "cell_type": "code",
      "metadata": {
        "id": "aSoeaKWDekWh",
        "colab_type": "code",
        "outputId": "04779d1b-eec4-4bd5-d6a5-6666015f9281",
        "colab": {
          "base_uri": "https://localhost:8080/",
          "height": 655
        }
      },
      "source": [
        "plot_confusion_matrix(y_test, y_pred, classes=planetas[\"Habitabilidad\"], normalize = True,\n",
        "                      title='Matriz de confusion, con normalizacion')"
      ],
      "execution_count": 0,
      "outputs": [
        {
          "output_type": "stream",
          "text": [
            "Matriz de confusion normalizada\n",
            "[[1.   0.  ]\n",
            " [0.09 0.91]]\n"
          ],
          "name": "stdout"
        },
        {
          "output_type": "execute_result",
          "data": {
            "text/plain": [
              "<matplotlib.axes._subplots.AxesSubplot at 0x7f19563bf7f0>"
            ]
          },
          "metadata": {
            "tags": []
          },
          "execution_count": 175
        },
        {
          "output_type": "display_data",
          "data": {
            "image/png": "[encoded data removed]",
            "text/plain": [
              "<Figure size 576x576 with 2 Axes>"
            ]
          },
          "metadata": {
            "tags": []
          }
        }
      ]
    }
  ]
}