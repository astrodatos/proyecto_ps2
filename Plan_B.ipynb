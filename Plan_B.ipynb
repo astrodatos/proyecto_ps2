{
  "nbformat": 4,
  "nbformat_minor": 0,
  "metadata": {
    "colab": {
      "name": "Plan B.ipynb",
      "version": "0.3.2",
      "provenance": [],
      "include_colab_link": true
    },
    "kernelspec": {
      "name": "python3",
      "display_name": "Python 3"
    }
  },
  "cells": [
    {
      "cell_type": "markdown",
      "metadata": {
        "id": "view-in-github",
        "colab_type": "text"
      },
      "source": [
        "<a href=\"https://colab.research.google.com/github/astrodatos/proyecto_ps2/blob/master/Plan_B.ipynb\" target=\"_parent\"><img src=\"https://colab.research.google.com/assets/colab-badge.svg\" alt=\"Open In Colab\"/></a>"
      ]
    },
    {
      "cell_type": "code",
      "metadata": {
        "id": "9bZ9xS5kf7Jq",
        "colab_type": "code",
        "outputId": "dfe29119-ea62-486c-a025-7ea7f9027b48",
        "colab": {
          "base_uri": "https://localhost:8080/",
          "height": 377
        }
      },
      "source": [
        "import numpy as np\n",
        "import matplotlib.pyplot as plt\n",
        "import seaborn as sns\n",
        "import sklearn as sk\n",
        "import pandas as pd\n",
        "from math import *\n",
        "!pip install astroquery"
      ],
      "execution_count": 7,
      "outputs": [
        {
          "output_type": "stream",
          "text": [
            "Requirement already satisfied: astroquery in /usr/local/lib/python3.6/dist-packages (0.3.9)\n",
            "Requirement already satisfied: requests>=2.4.3 in /usr/local/lib/python3.6/dist-packages (from astroquery) (2.21.0)\n",
            "Requirement already satisfied: astropy>=1.0 in /usr/local/lib/python3.6/dist-packages (from astroquery) (3.0.5)\n",
            "Requirement already satisfied: keyring>=4.0 in /usr/local/lib/python3.6/dist-packages (from astroquery) (19.0.2)\n",
            "Requirement already satisfied: beautifulsoup4>=4.3.2 in /usr/local/lib/python3.6/dist-packages (from astroquery) (4.6.3)\n",
            "Requirement already satisfied: html5lib>=0.999 in /usr/local/lib/python3.6/dist-packages (from astroquery) (1.0.1)\n",
            "Requirement already satisfied: idna<2.9,>=2.5 in /usr/local/lib/python3.6/dist-packages (from requests>=2.4.3->astroquery) (2.8)\n",
            "Requirement already satisfied: certifi>=2017.4.17 in /usr/local/lib/python3.6/dist-packages (from requests>=2.4.3->astroquery) (2019.6.16)\n",
            "Requirement already satisfied: chardet<3.1.0,>=3.0.2 in /usr/local/lib/python3.6/dist-packages (from requests>=2.4.3->astroquery) (3.0.4)\n",
            "Requirement already satisfied: urllib3<1.25,>=1.21.1 in /usr/local/lib/python3.6/dist-packages (from requests>=2.4.3->astroquery) (1.24.3)\n",
            "Requirement already satisfied: numpy>=1.10.0 in /usr/local/lib/python3.6/dist-packages (from astropy>=1.0->astroquery) (1.16.4)\n",
            "Requirement already satisfied: entrypoints in /usr/local/lib/python3.6/dist-packages (from keyring>=4.0->astroquery) (0.3)\n",
            "Requirement already satisfied: secretstorage; sys_platform == \"linux\" in /usr/local/lib/python3.6/dist-packages (from keyring>=4.0->astroquery) (3.1.1)\n",
            "Requirement already satisfied: webencodings in /usr/local/lib/python3.6/dist-packages (from html5lib>=0.999->astroquery) (0.5.1)\n",
            "Requirement already satisfied: six>=1.9 in /usr/local/lib/python3.6/dist-packages (from html5lib>=0.999->astroquery) (1.12.0)\n",
            "Requirement already satisfied: jeepney in /usr/local/lib/python3.6/dist-packages (from secretstorage; sys_platform == \"linux\"->keyring>=4.0->astroquery) (0.4)\n",
            "Requirement already satisfied: cryptography in /usr/local/lib/python3.6/dist-packages (from secretstorage; sys_platform == \"linux\"->keyring>=4.0->astroquery) (2.7)\n",
            "Requirement already satisfied: cffi!=1.11.3,>=1.8 in /usr/local/lib/python3.6/dist-packages (from cryptography->secretstorage; sys_platform == \"linux\"->keyring>=4.0->astroquery) (1.12.3)\n",
            "Requirement already satisfied: asn1crypto>=0.21.0 in /usr/local/lib/python3.6/dist-packages (from cryptography->secretstorage; sys_platform == \"linux\"->keyring>=4.0->astroquery) (0.24.0)\n",
            "Requirement already satisfied: pycparser in /usr/local/lib/python3.6/dist-packages (from cffi!=1.11.3,>=1.8->cryptography->secretstorage; sys_platform == \"linux\"->keyring>=4.0->astroquery) (2.19)\n"
          ],
          "name": "stdout"
        }
      ]
    },
    {
      "cell_type": "code",
      "metadata": {
        "id": "SkN63Igdf_6x",
        "colab_type": "code",
        "outputId": "41e665d1-5581-4699-9c1a-2bc765ed42a8",
        "colab": {
          "base_uri": "https://localhost:8080/",
          "height": 1000
        }
      },
      "source": [
        "planetas=pd.read_csv(\"https://raw.githubusercontent.com/astrodatos/proyecto_ps2/master/compositepars_2019.07.07_14.34.43.csv\", comment = '#')\n",
        "print(planetas.info())"
      ],
      "execution_count": 44,
      "outputs": [
        {
          "output_type": "stream",
          "text": [
            "<class 'pandas.core.frame.DataFrame'>\n",
            "RangeIndex: 4009 entries, 0 to 4008\n",
            "Data columns (total 100 columns):\n",
            "fpl_hostname         4009 non-null object\n",
            "fpl_letter           4009 non-null object\n",
            "fpl_name             4009 non-null object\n",
            "fpl_controvflag      4009 non-null int64\n",
            "fpl_disc             4009 non-null int64\n",
            "fpl_orbper           3906 non-null float64\n",
            "fpl_orbpererr1       3771 non-null float64\n",
            "fpl_orbpererr2       3771 non-null float64\n",
            "fpl_orbperlim        3935 non-null float64\n",
            "fpl_smax             2508 non-null float64\n",
            "fpl_smaxerr1         1682 non-null float64\n",
            "fpl_smaxerr2         1681 non-null float64\n",
            "fpl_smaxlim          2548 non-null float64\n",
            "fpl_eccen            1510 non-null float64\n",
            "fpl_eccenerr1        1061 non-null float64\n",
            "fpl_eccenerr2        1061 non-null float64\n",
            "fpl_eccenlim         1710 non-null float64\n",
            "fpl_bmasse           3985 non-null float64\n",
            "fpl_bmasseerr1       1552 non-null float64\n",
            "fpl_bmasseerr2       1552 non-null float64\n",
            "fpl_bmasselim        3987 non-null float64\n",
            "fpl_bmassprov        3985 non-null object\n",
            "fpl_bmassreflink     3985 non-null object\n",
            "fpl_rade             3992 non-null float64\n",
            "fpl_radeerr1         3094 non-null float64\n",
            "fpl_radeerr2         3094 non-null float64\n",
            "fpl_radelim          3994 non-null float64\n",
            "fpl_dens             3908 non-null float64\n",
            "fpl_denserr1         624 non-null float64\n",
            "fpl_denserr2         624 non-null float64\n",
            "fpl_denslim          3919 non-null float64\n",
            "fpl_densreflink      3908 non-null object\n",
            "fpl_eqt              861 non-null float64\n",
            "fpl_eqterr1          747 non-null float64\n",
            "fpl_eqterr2          747 non-null float64\n",
            "fpl_eqtlim           1395 non-null float64\n",
            "fpl_eqtreflink       861 non-null object\n",
            "fpl_insol            2408 non-null float64\n",
            "fpl_insolerr1        2391 non-null float64\n",
            "fpl_insolerr2        2391 non-null float64\n",
            "fpl_insollim         3191 non-null float64\n",
            "fpl_insolreflink     2408 non-null object\n",
            "ra_str               4006 non-null object\n",
            "ra                   4006 non-null float64\n",
            "dec_str              4006 non-null object\n",
            "dec                  4006 non-null float64\n",
            "fst_posreflink       4006 non-null object\n",
            "fst_dist             4000 non-null float64\n",
            "fst_disterr1         3922 non-null float64\n",
            "fst_disterr2         3922 non-null float64\n",
            "fst_distlim          4000 non-null float64\n",
            "fst_distreflink      4000 non-null object\n",
            "fst_optmag           3922 non-null float64\n",
            "fst_optmagerr        912 non-null float64\n",
            "fst_optmaglim        3922 non-null float64\n",
            "fst_optmagband       3922 non-null object\n",
            "fst_optmagreflink    3922 non-null object\n",
            "fst_nirmag           3903 non-null float64\n",
            "fst_nirmagerr        3881 non-null float64\n",
            "fst_nirmaglim        3903 non-null float64\n",
            "fst_nirmagband       3903 non-null object\n",
            "fst_nirmagreflink    3903 non-null object\n",
            "fst_spt              1334 non-null object\n",
            "fst_sptreflink       1334 non-null object\n",
            "fst_teff             3919 non-null float64\n",
            "fst_tefferr1         3755 non-null float64\n",
            "fst_tefferr2         3724 non-null float64\n",
            "fst_tefflim          3954 non-null float64\n",
            "fst_teffreflink      3919 non-null object\n",
            "fst_logg             3764 non-null float64\n",
            "fst_loggerr1         3620 non-null float64\n",
            "fst_loggerr2         3621 non-null float64\n",
            "fst_logglim          3873 non-null float64\n",
            "fst_loggreflink      3764 non-null object\n",
            "fst_lum              3901 non-null float64\n",
            "fst_lumerr1          3666 non-null float64\n",
            "fst_lumerr2          3652 non-null float64\n",
            "fst_lumlim           3940 non-null float64\n",
            "fst_lumreflink       3901 non-null object\n",
            "fst_mass             3995 non-null float64\n",
            "fst_masserr1         3772 non-null float64\n",
            "fst_masserr2         3742 non-null float64\n",
            "fst_masslim          3995 non-null float64\n",
            "fst_massreflink      3995 non-null object\n",
            "fst_rad              3892 non-null float64\n",
            "fst_raderr1          3760 non-null float64\n",
            "fst_raderr2          3731 non-null float64\n",
            "fst_radlim           3930 non-null float64\n",
            "fst_radreflink       3892 non-null object\n",
            "fst_met              3783 non-null float64\n",
            "fst_meterr1          3372 non-null float64\n",
            "fst_meterr2          3372 non-null float64\n",
            "fst_metlim           3882 non-null float64\n",
            "fst_metratio         3760 non-null object\n",
            "fst_metreflink       3783 non-null object\n",
            "fst_age              3375 non-null float64\n",
            "fst_ageerr1          3176 non-null float64\n",
            "fst_ageerr2          3176 non-null float64\n",
            "fst_agelim           3724 non-null float64\n",
            "fst_agereflink       3375 non-null object\n",
            "dtypes: float64(72), int64(2), object(26)\n",
            "memory usage: 3.1+ MB\n",
            "None\n"
          ],
          "name": "stdout"
        }
      ]
    },
    {
      "cell_type": "markdown",
      "metadata": {
        "id": "VMlDSs4ZXJ9Q",
        "colab_type": "text"
      },
      "source": [
        "Definiendo la habitabilidad"
      ]
    },
    {
      "cell_type": "code",
      "metadata": {
        "id": "brA_CpvVhetW",
        "colab_type": "code",
        "colab": {}
      },
      "source": [
        ""
      ],
      "execution_count": 0,
      "outputs": []
    },
    {
      "cell_type": "code",
      "metadata": {
        "id": "eEB-Qtq9q_eA",
        "colab_type": "code",
        "colab": {
          "base_uri": "https://localhost:8080/",
          "height": 564
        },
        "outputId": "2c205002-6bfc-4d20-9d46-57f1af56945e"
      },
      "source": [
        "Ts = 5700 #K\n",
        "ai = 2.7619 * 10**(-5)\n",
        "bi = 3.8095 * 10**(-9)\n",
        "ao = 1.3786 * 10**(-4)\n",
        "bo = 1.4286 * 10**(-9)\n",
        "ris = 0.72\n",
        "ros = 1.77\n",
        "Teff = planetas['fst_teff']\n",
        "lum = 10**(planetas['fst_lum'])\n",
        "resta = Teff - Ts\n",
        "semieje_menor = planetas['fpl_smax']*sqrt(1 - (planetas['fpl_eccen'])^2)\n",
        "r = (planetas['fpl_smax'] + semieje_menor)/2 #radio promedio de la órbita del planeta, en UA\n",
        "\n",
        "#Distancia del borde más lejano de la zona habitable a la estrella, en UA\n",
        "Ri = (ris - ai*resta - bi*(resta)^2)/sqrt(lum) \n",
        "#Distancia del borde más cercano de la zona habitable a la estrella, en UA\n",
        "Ro = (ros - ao*resta - bo*(resta)^2)/sqrt(lum)\n",
        "\n",
        "#índice de habitabilidad \n",
        "HDZ = (2*r - Ro - Ri)/(Ro - Ri)\n",
        "\n",
        "#Aplicando\n",
        "arreglo = planetas.join(HDZ, how = 'left')\n",
        "habitables = arreglo[(-1 <= 'HDZ')&('HDZ' <= 1)]\n"
      ],
      "execution_count": 40,
      "outputs": [
        {
          "output_type": "error",
          "ename": "TypeError",
          "evalue": "ignored",
          "traceback": [
            "\u001b[0;31m---------------------------------------------------------------------------\u001b[0m",
            "\u001b[0;31mTypeError\u001b[0m                                 Traceback (most recent call last)",
            "\u001b[0;32m/usr/local/lib/python3.6/dist-packages/pandas/core/ops.py\u001b[0m in \u001b[0;36mna_op\u001b[0;34m(x, y)\u001b[0m\n\u001b[1;32m   1788\u001b[0m         \u001b[0;32mtry\u001b[0m\u001b[0;34m:\u001b[0m\u001b[0;34m\u001b[0m\u001b[0;34m\u001b[0m\u001b[0m\n\u001b[0;32m-> 1789\u001b[0;31m             \u001b[0mresult\u001b[0m \u001b[0;34m=\u001b[0m \u001b[0mop\u001b[0m\u001b[0;34m(\u001b[0m\u001b[0mx\u001b[0m\u001b[0;34m,\u001b[0m \u001b[0my\u001b[0m\u001b[0;34m)\u001b[0m\u001b[0;34m\u001b[0m\u001b[0;34m\u001b[0m\u001b[0m\n\u001b[0m\u001b[1;32m   1790\u001b[0m         \u001b[0;32mexcept\u001b[0m \u001b[0mTypeError\u001b[0m\u001b[0;34m:\u001b[0m\u001b[0;34m\u001b[0m\u001b[0;34m\u001b[0m\u001b[0m\n",
            "\u001b[0;31mTypeError\u001b[0m: ufunc 'bitwise_xor' not supported for the input types, and the inputs could not be safely coerced to any supported types according to the casting rule ''safe''",
            "\nDuring handling of the above exception, another exception occurred:\n",
            "\u001b[0;31mValueError\u001b[0m                                Traceback (most recent call last)",
            "\u001b[0;32m/usr/local/lib/python3.6/dist-packages/pandas/core/ops.py\u001b[0m in \u001b[0;36mna_op\u001b[0;34m(x, y)\u001b[0m\n\u001b[1;32m   1803\u001b[0m                 \u001b[0;32mtry\u001b[0m\u001b[0;34m:\u001b[0m\u001b[0;34m\u001b[0m\u001b[0;34m\u001b[0m\u001b[0m\n\u001b[0;32m-> 1804\u001b[0;31m                     \u001b[0mresult\u001b[0m \u001b[0;34m=\u001b[0m \u001b[0mlibops\u001b[0m\u001b[0;34m.\u001b[0m\u001b[0mscalar_binop\u001b[0m\u001b[0;34m(\u001b[0m\u001b[0mx\u001b[0m\u001b[0;34m,\u001b[0m \u001b[0my\u001b[0m\u001b[0;34m,\u001b[0m \u001b[0mop\u001b[0m\u001b[0;34m)\u001b[0m\u001b[0;34m\u001b[0m\u001b[0;34m\u001b[0m\u001b[0m\n\u001b[0m\u001b[1;32m   1805\u001b[0m                 except (TypeError, ValueError, AttributeError,\n",
            "\u001b[0;32mpandas/_libs/ops.pyx\u001b[0m in \u001b[0;36mpandas._libs.ops.scalar_binop\u001b[0;34m()\u001b[0m\n",
            "\u001b[0;31mValueError\u001b[0m: Buffer dtype mismatch, expected 'Python object' but got 'double'",
            "\nDuring handling of the above exception, another exception occurred:\n",
            "\u001b[0;31mTypeError\u001b[0m                                 Traceback (most recent call last)",
            "\u001b[0;32m<ipython-input-40-acf47d0d9384>\u001b[0m in \u001b[0;36m<module>\u001b[0;34m()\u001b[0m\n\u001b[1;32m      9\u001b[0m \u001b[0mlum\u001b[0m \u001b[0;34m=\u001b[0m \u001b[0;36m10\u001b[0m\u001b[0;34m**\u001b[0m\u001b[0;34m(\u001b[0m\u001b[0mplanetas\u001b[0m\u001b[0;34m[\u001b[0m\u001b[0;34m'fst_lum'\u001b[0m\u001b[0;34m]\u001b[0m\u001b[0;34m)\u001b[0m\u001b[0;34m\u001b[0m\u001b[0;34m\u001b[0m\u001b[0m\n\u001b[1;32m     10\u001b[0m \u001b[0mresta\u001b[0m \u001b[0;34m=\u001b[0m \u001b[0mTeff\u001b[0m \u001b[0;34m-\u001b[0m \u001b[0mTs\u001b[0m\u001b[0;34m\u001b[0m\u001b[0;34m\u001b[0m\u001b[0m\n\u001b[0;32m---> 11\u001b[0;31m \u001b[0msemieje_menor\u001b[0m \u001b[0;34m=\u001b[0m \u001b[0mplanetas\u001b[0m\u001b[0;34m[\u001b[0m\u001b[0;34m'fpl_smax'\u001b[0m\u001b[0;34m]\u001b[0m\u001b[0;34m*\u001b[0m\u001b[0msqrt\u001b[0m\u001b[0;34m(\u001b[0m\u001b[0;36m1\u001b[0m \u001b[0;34m-\u001b[0m \u001b[0;34m(\u001b[0m\u001b[0mplanetas\u001b[0m\u001b[0;34m[\u001b[0m\u001b[0;34m'fpl_eccen'\u001b[0m\u001b[0;34m]\u001b[0m\u001b[0;34m)\u001b[0m\u001b[0;34m^\u001b[0m\u001b[0;36m2\u001b[0m\u001b[0;34m)\u001b[0m\u001b[0;34m\u001b[0m\u001b[0;34m\u001b[0m\u001b[0m\n\u001b[0m\u001b[1;32m     12\u001b[0m \u001b[0mr\u001b[0m \u001b[0;34m=\u001b[0m \u001b[0;34m(\u001b[0m\u001b[0mplanetas\u001b[0m\u001b[0;34m[\u001b[0m\u001b[0;34m'fpl_smax'\u001b[0m\u001b[0;34m]\u001b[0m \u001b[0;34m+\u001b[0m \u001b[0msemieje_menor\u001b[0m\u001b[0;34m)\u001b[0m\u001b[0;34m/\u001b[0m\u001b[0;36m2\u001b[0m \u001b[0;31m#radio promedio de la órbita del planeta, en UA\u001b[0m\u001b[0;34m\u001b[0m\u001b[0;34m\u001b[0m\u001b[0m\n\u001b[1;32m     13\u001b[0m \u001b[0;34m\u001b[0m\u001b[0m\n",
            "\u001b[0;32m/usr/local/lib/python3.6/dist-packages/pandas/core/ops.py\u001b[0m in \u001b[0;36mwrapper\u001b[0;34m(self, other)\u001b[0m\n\u001b[1;32m   1848\u001b[0m         filler = (fill_int if is_self_int_dtype and is_other_int_dtype\n\u001b[1;32m   1849\u001b[0m                   else fill_bool)\n\u001b[0;32m-> 1850\u001b[0;31m         \u001b[0mres_values\u001b[0m \u001b[0;34m=\u001b[0m \u001b[0mna_op\u001b[0m\u001b[0;34m(\u001b[0m\u001b[0mself\u001b[0m\u001b[0;34m.\u001b[0m\u001b[0mvalues\u001b[0m\u001b[0;34m,\u001b[0m \u001b[0movalues\u001b[0m\u001b[0;34m)\u001b[0m\u001b[0;34m\u001b[0m\u001b[0;34m\u001b[0m\u001b[0m\n\u001b[0m\u001b[1;32m   1851\u001b[0m         unfilled = self._constructor(res_values,\n\u001b[1;32m   1852\u001b[0m                                      index=self.index, name=res_name)\n",
            "\u001b[0;32m/usr/local/lib/python3.6/dist-packages/pandas/core/ops.py\u001b[0m in \u001b[0;36mna_op\u001b[0;34m(x, y)\u001b[0m\n\u001b[1;32m   1808\u001b[0m                                     \u001b[0;34m\"with a scalar of type [{typ}]\"\u001b[0m\u001b[0;34m\u001b[0m\u001b[0;34m\u001b[0m\u001b[0m\n\u001b[1;32m   1809\u001b[0m                                     .format(dtype=x.dtype,\n\u001b[0;32m-> 1810\u001b[0;31m                                             typ=type(y).__name__))\n\u001b[0m\u001b[1;32m   1811\u001b[0m \u001b[0;34m\u001b[0m\u001b[0m\n\u001b[1;32m   1812\u001b[0m         \u001b[0;32mreturn\u001b[0m \u001b[0mresult\u001b[0m\u001b[0;34m\u001b[0m\u001b[0;34m\u001b[0m\u001b[0m\n",
            "\u001b[0;31mTypeError\u001b[0m: cannot compare a dtyped [float64] array with a scalar of type [bool]"
          ]
        }
      ]
    },
    {
      "cell_type": "markdown",
      "metadata": {
        "id": "UxAMvY-nTC9K",
        "colab_type": "text"
      },
      "source": [
        "Gráficos"
      ]
    },
    {
      "cell_type": "code",
      "metadata": {
        "id": "wEuTOJIU5pRV",
        "colab_type": "code",
        "colab": {
          "base_uri": "https://localhost:8080/",
          "height": 248
        },
        "outputId": "5e02b099-4d0a-4a9c-e033-9a63c6a20af4"
      },
      "source": [
        "#Hisotgrama de índice de habitabilidad \n",
        "plt.figure(figsize = (10,10))\n",
        "plt.hist(arreglo['HDZ'])\n",
        "plt.xlabel('índice de habitabilidad')\n",
        "plt.ylabel('Cantidad de planetas')\n",
        "plt.title('Planetas y su habitabilidad')"
      ],
      "execution_count": 41,
      "outputs": [
        {
          "output_type": "error",
          "ename": "NameError",
          "evalue": "ignored",
          "traceback": [
            "\u001b[0;31m---------------------------------------------------------------------------\u001b[0m",
            "\u001b[0;31mNameError\u001b[0m                                 Traceback (most recent call last)",
            "\u001b[0;32m<ipython-input-41-cb5f179fc208>\u001b[0m in \u001b[0;36m<module>\u001b[0;34m()\u001b[0m\n\u001b[1;32m      1\u001b[0m \u001b[0mplt\u001b[0m\u001b[0;34m.\u001b[0m\u001b[0mfigure\u001b[0m\u001b[0;34m(\u001b[0m\u001b[0mfigsize\u001b[0m \u001b[0;34m=\u001b[0m \u001b[0;34m(\u001b[0m\u001b[0;36m10\u001b[0m\u001b[0;34m,\u001b[0m\u001b[0;36m10\u001b[0m\u001b[0;34m)\u001b[0m\u001b[0;34m)\u001b[0m\u001b[0;34m\u001b[0m\u001b[0;34m\u001b[0m\u001b[0m\n\u001b[0;32m----> 2\u001b[0;31m \u001b[0mplt\u001b[0m\u001b[0;34m.\u001b[0m\u001b[0mhist\u001b[0m\u001b[0;34m(\u001b[0m\u001b[0marreglo\u001b[0m\u001b[0;34m[\u001b[0m\u001b[0;34m'HDZ'\u001b[0m\u001b[0;34m]\u001b[0m\u001b[0;34m)\u001b[0m\u001b[0;34m\u001b[0m\u001b[0;34m\u001b[0m\u001b[0m\n\u001b[0m\u001b[1;32m      3\u001b[0m \u001b[0mplt\u001b[0m\u001b[0;34m.\u001b[0m\u001b[0mxlabel\u001b[0m\u001b[0;34m(\u001b[0m\u001b[0;34m'índice de habitabilidad'\u001b[0m\u001b[0;34m)\u001b[0m\u001b[0;34m\u001b[0m\u001b[0;34m\u001b[0m\u001b[0m\n\u001b[1;32m      4\u001b[0m \u001b[0mplt\u001b[0m\u001b[0;34m.\u001b[0m\u001b[0mylabel\u001b[0m\u001b[0;34m(\u001b[0m\u001b[0;34m'Cantidad de planetas'\u001b[0m\u001b[0;34m)\u001b[0m\u001b[0;34m\u001b[0m\u001b[0;34m\u001b[0m\u001b[0m\n\u001b[1;32m      5\u001b[0m \u001b[0mplt\u001b[0m\u001b[0;34m.\u001b[0m\u001b[0mtitle\u001b[0m\u001b[0;34m(\u001b[0m\u001b[0;34m'Planetas y su habitabilidad'\u001b[0m\u001b[0;34m)\u001b[0m\u001b[0;34m\u001b[0m\u001b[0;34m\u001b[0m\u001b[0m\n",
            "\u001b[0;31mNameError\u001b[0m: name 'arreglo' is not defined"
          ]
        },
        {
          "output_type": "display_data",
          "data": {
            "text/plain": [
              "<Figure size 720x720 with 0 Axes>"
            ]
          },
          "metadata": {
            "tags": []
          }
        }
      ]
    },
    {
      "cell_type": "code",
      "metadata": {
        "id": "SNSFofoYTFxE",
        "colab_type": "code",
        "colab": {
          "base_uri": "https://localhost:8080/",
          "height": 248
        },
        "outputId": "899965c2-e728-404e-e091-fba66ffe6c07"
      },
      "source": [
        "#Histograma de los planetas habitables\n",
        "plt.figure(figsize = (10,10))\n",
        "plt.hist(habitables)\n",
        "plt.xlabel('índice de habitabilidad')\n",
        "plt.ylabel('Cantidad de planetas')\n",
        "plt.title('Planetas habitables')"
      ],
      "execution_count": 42,
      "outputs": [
        {
          "output_type": "error",
          "ename": "NameError",
          "evalue": "ignored",
          "traceback": [
            "\u001b[0;31m---------------------------------------------------------------------------\u001b[0m",
            "\u001b[0;31mNameError\u001b[0m                                 Traceback (most recent call last)",
            "\u001b[0;32m<ipython-input-42-c104f9baf200>\u001b[0m in \u001b[0;36m<module>\u001b[0;34m()\u001b[0m\n\u001b[1;32m      1\u001b[0m \u001b[0mplt\u001b[0m\u001b[0;34m.\u001b[0m\u001b[0mfigure\u001b[0m\u001b[0;34m(\u001b[0m\u001b[0mfigsize\u001b[0m \u001b[0;34m=\u001b[0m \u001b[0;34m(\u001b[0m\u001b[0;36m10\u001b[0m\u001b[0;34m,\u001b[0m\u001b[0;36m10\u001b[0m\u001b[0;34m)\u001b[0m\u001b[0;34m)\u001b[0m\u001b[0;34m\u001b[0m\u001b[0;34m\u001b[0m\u001b[0m\n\u001b[0;32m----> 2\u001b[0;31m \u001b[0mplt\u001b[0m\u001b[0;34m.\u001b[0m\u001b[0mhist\u001b[0m\u001b[0;34m(\u001b[0m\u001b[0mhabitables\u001b[0m\u001b[0;34m)\u001b[0m\u001b[0;34m\u001b[0m\u001b[0;34m\u001b[0m\u001b[0m\n\u001b[0m\u001b[1;32m      3\u001b[0m \u001b[0mplt\u001b[0m\u001b[0;34m.\u001b[0m\u001b[0mxlabel\u001b[0m\u001b[0;34m(\u001b[0m\u001b[0;34m'índice de habitabilidad'\u001b[0m\u001b[0;34m)\u001b[0m\u001b[0;34m\u001b[0m\u001b[0;34m\u001b[0m\u001b[0m\n\u001b[1;32m      4\u001b[0m \u001b[0mplt\u001b[0m\u001b[0;34m.\u001b[0m\u001b[0mylabel\u001b[0m\u001b[0;34m(\u001b[0m\u001b[0;34m'Cantidad de planetas'\u001b[0m\u001b[0;34m)\u001b[0m\u001b[0;34m\u001b[0m\u001b[0;34m\u001b[0m\u001b[0m\n\u001b[1;32m      5\u001b[0m \u001b[0mplt\u001b[0m\u001b[0;34m.\u001b[0m\u001b[0mtitle\u001b[0m\u001b[0;34m(\u001b[0m\u001b[0;34m'Planetas habitables'\u001b[0m\u001b[0;34m)\u001b[0m\u001b[0;34m\u001b[0m\u001b[0;34m\u001b[0m\u001b[0m\n",
            "\u001b[0;31mNameError\u001b[0m: name 'habitables' is not defined"
          ]
        },
        {
          "output_type": "display_data",
          "data": {
            "text/plain": [
              "<Figure size 720x720 with 0 Axes>"
            ]
          },
          "metadata": {
            "tags": []
          }
        }
      ]
    },
    {
      "cell_type": "markdown",
      "metadata": {
        "id": "n6PUFjOWTQJd",
        "colab_type": "text"
      },
      "source": [
        "Machine Learning"
      ]
    },
    {
      "cell_type": "code",
      "metadata": {
        "id": "6kSc1q_GTR3z",
        "colab_type": "code",
        "colab": {}
      },
      "source": [
        ""
      ],
      "execution_count": 0,
      "outputs": []
    }
  ]
}