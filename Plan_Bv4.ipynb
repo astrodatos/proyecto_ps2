{
  "nbformat": 4,
  "nbformat_minor": 0,
  "metadata": {
    "colab": {
      "name": "Plan B.ipynb",
      "version": "0.3.2",
      "provenance": [],
      "include_colab_link": true
    },
    "kernelspec": {
      "name": "python3",
      "display_name": "Python 3"
    }
  },
  "cells": [
    {
      "cell_type": "markdown",
      "metadata": {
        "id": "view-in-github",
        "colab_type": "text"
      },
      "source": [
        "<a href=\"https://colab.research.google.com/github/astrodatos/proyecto_ps2/blob/master/Plan_Bv4.ipynb\" target=\"_parent\"><img src=\"https://colab.research.google.com/assets/colab-badge.svg\" alt=\"Open In Colab\"/></a>"
      ]
    },
    {
      "cell_type": "code",
      "metadata": {
        "id": "9bZ9xS5kf7Jq",
        "colab_type": "code",
        "outputId": "445fb642-1b91-4242-901c-9767b429ba30",
        "colab": {
          "base_uri": "https://localhost:8080/",
          "height": 377
        }
      },
      "source": [
        "import numpy as np\n",
        "import matplotlib.pyplot as plt\n",
        "import seaborn as sns\n",
        "import sklearn as sk\n",
        "import pandas as pd\n",
        "from math import *\n",
        "from astropy.constants import G\n",
        "!pip install astroquery"
      ],
      "execution_count": 0,
      "outputs": [
        {
          "output_type": "stream",
          "text": [
            "Requirement already satisfied: astroquery in /usr/local/lib/python3.6/dist-packages (0.3.9)\n",
            "Requirement already satisfied: requests>=2.4.3 in /usr/local/lib/python3.6/dist-packages (from astroquery) (2.21.0)\n",
            "Requirement already satisfied: html5lib>=0.999 in /usr/local/lib/python3.6/dist-packages (from astroquery) (1.0.1)\n",
            "Requirement already satisfied: astropy>=1.0 in /usr/local/lib/python3.6/dist-packages (from astroquery) (3.0.5)\n",
            "Requirement already satisfied: keyring>=4.0 in /usr/local/lib/python3.6/dist-packages (from astroquery) (19.0.2)\n",
            "Requirement already satisfied: beautifulsoup4>=4.3.2 in /usr/local/lib/python3.6/dist-packages (from astroquery) (4.6.3)\n",
            "Requirement already satisfied: chardet<3.1.0,>=3.0.2 in /usr/local/lib/python3.6/dist-packages (from requests>=2.4.3->astroquery) (3.0.4)\n",
            "Requirement already satisfied: certifi>=2017.4.17 in /usr/local/lib/python3.6/dist-packages (from requests>=2.4.3->astroquery) (2019.6.16)\n",
            "Requirement already satisfied: idna<2.9,>=2.5 in /usr/local/lib/python3.6/dist-packages (from requests>=2.4.3->astroquery) (2.8)\n",
            "Requirement already satisfied: urllib3<1.25,>=1.21.1 in /usr/local/lib/python3.6/dist-packages (from requests>=2.4.3->astroquery) (1.24.3)\n",
            "Requirement already satisfied: webencodings in /usr/local/lib/python3.6/dist-packages (from html5lib>=0.999->astroquery) (0.5.1)\n",
            "Requirement already satisfied: six>=1.9 in /usr/local/lib/python3.6/dist-packages (from html5lib>=0.999->astroquery) (1.12.0)\n",
            "Requirement already satisfied: numpy>=1.10.0 in /usr/local/lib/python3.6/dist-packages (from astropy>=1.0->astroquery) (1.16.4)\n",
            "Requirement already satisfied: entrypoints in /usr/local/lib/python3.6/dist-packages (from keyring>=4.0->astroquery) (0.3)\n",
            "Requirement already satisfied: secretstorage; sys_platform == \"linux\" in /usr/local/lib/python3.6/dist-packages (from keyring>=4.0->astroquery) (3.1.1)\n",
            "Requirement already satisfied: jeepney in /usr/local/lib/python3.6/dist-packages (from secretstorage; sys_platform == \"linux\"->keyring>=4.0->astroquery) (0.4)\n",
            "Requirement already satisfied: cryptography in /usr/local/lib/python3.6/dist-packages (from secretstorage; sys_platform == \"linux\"->keyring>=4.0->astroquery) (2.7)\n",
            "Requirement already satisfied: cffi!=1.11.3,>=1.8 in /usr/local/lib/python3.6/dist-packages (from cryptography->secretstorage; sys_platform == \"linux\"->keyring>=4.0->astroquery) (1.12.3)\n",
            "Requirement already satisfied: asn1crypto>=0.21.0 in /usr/local/lib/python3.6/dist-packages (from cryptography->secretstorage; sys_platform == \"linux\"->keyring>=4.0->astroquery) (0.24.0)\n",
            "Requirement already satisfied: pycparser in /usr/local/lib/python3.6/dist-packages (from cffi!=1.11.3,>=1.8->cryptography->secretstorage; sys_platform == \"linux\"->keyring>=4.0->astroquery) (2.19)\n"
          ],
          "name": "stdout"
        }
      ]
    },
    {
      "cell_type": "code",
      "metadata": {
        "id": "SkN63Igdf_6x",
        "colab_type": "code",
        "outputId": "3fc79976-5cb7-485b-c18d-b3beec430afa",
        "colab": {
          "base_uri": "https://localhost:8080/",
          "height": 1000
        }
      },
      "source": [
        "planetas=pd.read_csv(\"https://raw.githubusercontent.com/astrodatos/proyecto_ps2/master/compositepars_2019.07.07_14.34.43.csv\", comment = '#')\n",
        "print(planetas.info())"
      ],
      "execution_count": 0,
      "outputs": [
        {
          "output_type": "stream",
          "text": [
            "<class 'pandas.core.frame.DataFrame'>\n",
            "RangeIndex: 4009 entries, 0 to 4008\n",
            "Data columns (total 100 columns):\n",
            "fpl_hostname         4009 non-null object\n",
            "fpl_letter           4009 non-null object\n",
            "fpl_name             4009 non-null object\n",
            "fpl_controvflag      4009 non-null int64\n",
            "fpl_disc             4009 non-null int64\n",
            "fpl_orbper           3906 non-null float64\n",
            "fpl_orbpererr1       3771 non-null float64\n",
            "fpl_orbpererr2       3771 non-null float64\n",
            "fpl_orbperlim        3935 non-null float64\n",
            "fpl_smax             2508 non-null float64\n",
            "fpl_smaxerr1         1682 non-null float64\n",
            "fpl_smaxerr2         1681 non-null float64\n",
            "fpl_smaxlim          2548 non-null float64\n",
            "fpl_eccen            1510 non-null float64\n",
            "fpl_eccenerr1        1061 non-null float64\n",
            "fpl_eccenerr2        1061 non-null float64\n",
            "fpl_eccenlim         1710 non-null float64\n",
            "fpl_bmasse           3985 non-null float64\n",
            "fpl_bmasseerr1       1552 non-null float64\n",
            "fpl_bmasseerr2       1552 non-null float64\n",
            "fpl_bmasselim        3987 non-null float64\n",
            "fpl_bmassprov        3985 non-null object\n",
            "fpl_bmassreflink     3985 non-null object\n",
            "fpl_rade             3992 non-null float64\n",
            "fpl_radeerr1         3094 non-null float64\n",
            "fpl_radeerr2         3094 non-null float64\n",
            "fpl_radelim          3994 non-null float64\n",
            "fpl_dens             3908 non-null float64\n",
            "fpl_denserr1         624 non-null float64\n",
            "fpl_denserr2         624 non-null float64\n",
            "fpl_denslim          3919 non-null float64\n",
            "fpl_densreflink      3908 non-null object\n",
            "fpl_eqt              861 non-null float64\n",
            "fpl_eqterr1          747 non-null float64\n",
            "fpl_eqterr2          747 non-null float64\n",
            "fpl_eqtlim           1395 non-null float64\n",
            "fpl_eqtreflink       861 non-null object\n",
            "fpl_insol            2408 non-null float64\n",
            "fpl_insolerr1        2391 non-null float64\n",
            "fpl_insolerr2        2391 non-null float64\n",
            "fpl_insollim         3191 non-null float64\n",
            "fpl_insolreflink     2408 non-null object\n",
            "ra_str               4006 non-null object\n",
            "ra                   4006 non-null float64\n",
            "dec_str              4006 non-null object\n",
            "dec                  4006 non-null float64\n",
            "fst_posreflink       4006 non-null object\n",
            "fst_dist             4000 non-null float64\n",
            "fst_disterr1         3922 non-null float64\n",
            "fst_disterr2         3922 non-null float64\n",
            "fst_distlim          4000 non-null float64\n",
            "fst_distreflink      4000 non-null object\n",
            "fst_optmag           3922 non-null float64\n",
            "fst_optmagerr        912 non-null float64\n",
            "fst_optmaglim        3922 non-null float64\n",
            "fst_optmagband       3922 non-null object\n",
            "fst_optmagreflink    3922 non-null object\n",
            "fst_nirmag           3903 non-null float64\n",
            "fst_nirmagerr        3881 non-null float64\n",
            "fst_nirmaglim        3903 non-null float64\n",
            "fst_nirmagband       3903 non-null object\n",
            "fst_nirmagreflink    3903 non-null object\n",
            "fst_spt              1334 non-null object\n",
            "fst_sptreflink       1334 non-null object\n",
            "fst_teff             3919 non-null float64\n",
            "fst_tefferr1         3755 non-null float64\n",
            "fst_tefferr2         3724 non-null float64\n",
            "fst_tefflim          3954 non-null float64\n",
            "fst_teffreflink      3919 non-null object\n",
            "fst_logg             3764 non-null float64\n",
            "fst_loggerr1         3620 non-null float64\n",
            "fst_loggerr2         3621 non-null float64\n",
            "fst_logglim          3873 non-null float64\n",
            "fst_loggreflink      3764 non-null object\n",
            "fst_lum              3901 non-null float64\n",
            "fst_lumerr1          3666 non-null float64\n",
            "fst_lumerr2          3652 non-null float64\n",
            "fst_lumlim           3940 non-null float64\n",
            "fst_lumreflink       3901 non-null object\n",
            "fst_mass             3995 non-null float64\n",
            "fst_masserr1         3772 non-null float64\n",
            "fst_masserr2         3742 non-null float64\n",
            "fst_masslim          3995 non-null float64\n",
            "fst_massreflink      3995 non-null object\n",
            "fst_rad              3892 non-null float64\n",
            "fst_raderr1          3760 non-null float64\n",
            "fst_raderr2          3731 non-null float64\n",
            "fst_radlim           3930 non-null float64\n",
            "fst_radreflink       3892 non-null object\n",
            "fst_met              3783 non-null float64\n",
            "fst_meterr1          3372 non-null float64\n",
            "fst_meterr2          3372 non-null float64\n",
            "fst_metlim           3882 non-null float64\n",
            "fst_metratio         3760 non-null object\n",
            "fst_metreflink       3783 non-null object\n",
            "fst_age              3375 non-null float64\n",
            "fst_ageerr1          3176 non-null float64\n",
            "fst_ageerr2          3176 non-null float64\n",
            "fst_agelim           3724 non-null float64\n",
            "fst_agereflink       3375 non-null object\n",
            "dtypes: float64(72), int64(2), object(26)\n",
            "memory usage: 3.1+ MB\n",
            "None\n"
          ],
          "name": "stdout"
        }
      ]
    },
    {
      "cell_type": "markdown",
      "metadata": {
        "id": "VMlDSs4ZXJ9Q",
        "colab_type": "text"
      },
      "source": [
        "Definiendo la habitabilidad"
      ]
    },
    {
      "cell_type": "code",
      "metadata": {
        "id": "brA_CpvVhetW",
        "colab_type": "code",
        "outputId": "416d6d94-b214-4988-e713-8c2de5596179",
        "colab": {
          "base_uri": "https://localhost:8080/",
          "height": 34
        }
      },
      "source": [
        ""
      ],
      "execution_count": 0,
      "outputs": [
        {
          "output_type": "execute_result",
          "data": {
            "text/plain": [
              "(4009,)"
            ]
          },
          "metadata": {
            "tags": []
          },
          "execution_count": 62
        }
      ]
    },
    {
      "cell_type": "code",
      "metadata": {
        "id": "eEB-Qtq9q_eA",
        "colab_type": "code",
        "outputId": "f4981015-1c37-4b35-ed69-b232dda94e69",
        "colab": {
          "base_uri": "https://localhost:8080/",
          "height": 374
        }
      },
      "source": [
        "Ts = 5700 #K\n",
        "ai = 2.7619 * 10**(-5)\n",
        "bi = 3.8095 * 10**(-9)\n",
        "ao = 1.3786 * 10**(-4)\n",
        "bo = 1.4286 * 10**(-9)\n",
        "ris = 0.72\n",
        "ros = 1.77\n",
        "Teff = planetas['fst_teff'].fillna(planetas['fst_teff'].mean())\n",
        "lum = 10**(planetas['fst_lum'].fillna(planetas['fst_lum'].mean()))\n",
        "resta = Teff - Ts\n",
        "T = planetas['fpl_orbper'].fillna(planetas['fpl_orbper'].mean())\n",
        "m = planetas['fpl_bmasse'].fillna(planetas['fpl_bmasse'].mean())\n",
        "M = planetas['fst_mass'].fillna(planetas['fst_mass'].mean())\n",
        "suma = M + m\n",
        "r = ((G*suma*(T)**2)/(4*(pi)**2))**(1/3)\n",
        "\n",
        "#Distancia del borde más lejano de la zona habitable a la estrella, en UA\n",
        "Ri = (ris - ai*resta - bi*(resta)**2)/np.sqrt(lum)\n",
        "#Distancia del borde más cercano de la zona habitable a la estrella, en UA\n",
        "Ro = (ros - ao*resta - bo*(resta)**2)/np.sqrt(lum)\n",
        "\n",
        "#índice de habitabilidad \n",
        "resta1 = Ro - Ri\n",
        "resta2 = 2*r - Ro - Ri\n",
        "HDZ = resta2/resta1\n",
        "\n",
        "#Aplicando\n",
        "planetas['HDZ'] = HDZ\n",
        "habitables = planetas[(-1 <= 'HDZ' <= 1)]\n"
      ],
      "execution_count": 0,
      "outputs": [
        {
          "output_type": "error",
          "ename": "UnitsError",
          "evalue": "ignored",
          "traceback": [
            "\u001b[0;31m---------------------------------------------------------------------------\u001b[0m",
            "\u001b[0;31mUnitsError\u001b[0m                                Traceback (most recent call last)",
            "\u001b[0;32m<ipython-input-65-2f0d3ea43b0d>\u001b[0m in \u001b[0;36m<module>\u001b[0;34m()\u001b[0m\n\u001b[1;32m     22\u001b[0m \u001b[0;31m#índice de habitabilidad\u001b[0m\u001b[0;34m\u001b[0m\u001b[0;34m\u001b[0m\u001b[0;34m\u001b[0m\u001b[0m\n\u001b[1;32m     23\u001b[0m \u001b[0mresta1\u001b[0m \u001b[0;34m=\u001b[0m \u001b[0mRo\u001b[0m \u001b[0;34m-\u001b[0m \u001b[0mRi\u001b[0m\u001b[0;34m\u001b[0m\u001b[0;34m\u001b[0m\u001b[0m\n\u001b[0;32m---> 24\u001b[0;31m \u001b[0mresta2\u001b[0m \u001b[0;34m=\u001b[0m \u001b[0;36m2\u001b[0m\u001b[0;34m*\u001b[0m\u001b[0mr\u001b[0m \u001b[0;34m-\u001b[0m \u001b[0mRo\u001b[0m \u001b[0;34m-\u001b[0m \u001b[0mRi\u001b[0m\u001b[0;34m\u001b[0m\u001b[0;34m\u001b[0m\u001b[0m\n\u001b[0m\u001b[1;32m     25\u001b[0m \u001b[0mHDZ\u001b[0m \u001b[0;34m=\u001b[0m \u001b[0mresta2\u001b[0m\u001b[0;34m/\u001b[0m\u001b[0mresta1\u001b[0m\u001b[0;34m\u001b[0m\u001b[0;34m\u001b[0m\u001b[0m\n\u001b[1;32m     26\u001b[0m \u001b[0;34m\u001b[0m\u001b[0m\n",
            "\u001b[0;32m/usr/local/lib/python3.6/dist-packages/astropy/units/quantity.py\u001b[0m in \u001b[0;36m__array_ufunc__\u001b[0;34m(self, function, method, *inputs, **kwargs)\u001b[0m\n\u001b[1;32m    618\u001b[0m         \u001b[0;31m# consistent units between two inputs (e.g., in np.add) --\u001b[0m\u001b[0;34m\u001b[0m\u001b[0;34m\u001b[0m\u001b[0;34m\u001b[0m\u001b[0m\n\u001b[1;32m    619\u001b[0m         \u001b[0;31m# and the unit of the result (or tuple of units for nout > 1).\u001b[0m\u001b[0;34m\u001b[0m\u001b[0;34m\u001b[0m\u001b[0;34m\u001b[0m\u001b[0m\n\u001b[0;32m--> 620\u001b[0;31m         \u001b[0mconverters\u001b[0m\u001b[0;34m,\u001b[0m \u001b[0munit\u001b[0m \u001b[0;34m=\u001b[0m \u001b[0mconverters_and_unit\u001b[0m\u001b[0;34m(\u001b[0m\u001b[0mfunction\u001b[0m\u001b[0;34m,\u001b[0m \u001b[0mmethod\u001b[0m\u001b[0;34m,\u001b[0m \u001b[0;34m*\u001b[0m\u001b[0minputs\u001b[0m\u001b[0;34m)\u001b[0m\u001b[0;34m\u001b[0m\u001b[0;34m\u001b[0m\u001b[0m\n\u001b[0m\u001b[1;32m    621\u001b[0m \u001b[0;34m\u001b[0m\u001b[0m\n\u001b[1;32m    622\u001b[0m         \u001b[0mout\u001b[0m \u001b[0;34m=\u001b[0m \u001b[0mkwargs\u001b[0m\u001b[0;34m.\u001b[0m\u001b[0mget\u001b[0m\u001b[0;34m(\u001b[0m\u001b[0;34m'out'\u001b[0m\u001b[0;34m,\u001b[0m \u001b[0;32mNone\u001b[0m\u001b[0;34m)\u001b[0m\u001b[0;34m\u001b[0m\u001b[0;34m\u001b[0m\u001b[0m\n",
            "\u001b[0;32m/usr/local/lib/python3.6/dist-packages/astropy/units/quantity_helper.py\u001b[0m in \u001b[0;36mconverters_and_unit\u001b[0;34m(function, method, *args)\u001b[0m\n\u001b[1;32m    565\u001b[0m                                      \u001b[0;34m\"argument is not a quantity (unless the \"\u001b[0m\u001b[0;34m\u001b[0m\u001b[0;34m\u001b[0m\u001b[0m\n\u001b[1;32m    566\u001b[0m                                      \u001b[0;34m\"latter is all zero/infinity/nan)\"\u001b[0m\u001b[0;34m\u001b[0m\u001b[0;34m\u001b[0m\u001b[0m\n\u001b[0;32m--> 567\u001b[0;31m                                      .format(function.__name__))\n\u001b[0m\u001b[1;32m    568\u001b[0m             \u001b[0;32mexcept\u001b[0m \u001b[0mTypeError\u001b[0m\u001b[0;34m:\u001b[0m\u001b[0;34m\u001b[0m\u001b[0;34m\u001b[0m\u001b[0m\n\u001b[1;32m    569\u001b[0m                 \u001b[0;31m# _can_have_arbitrary_unit failed: arg could not be compared\u001b[0m\u001b[0;34m\u001b[0m\u001b[0;34m\u001b[0m\u001b[0;34m\u001b[0m\u001b[0m\n",
            "\u001b[0;31mUnitsError\u001b[0m: Can only apply 'subtract' function to dimensionless quantities when other argument is not a quantity (unless the latter is all zero/infinity/nan)"
          ]
        }
      ]
    },
    {
      "cell_type": "markdown",
      "metadata": {
        "id": "UxAMvY-nTC9K",
        "colab_type": "text"
      },
      "source": [
        "Gráficos"
      ]
    },
    {
      "cell_type": "code",
      "metadata": {
        "id": "wEuTOJIU5pRV",
        "colab_type": "code",
        "colab": {}
      },
      "source": [
        "#Hisotgrama de índice de habitabilidad \n",
        "plt.figure(figsize = (10,10))\n",
        "plt.hist(planetas['HDZ'])\n",
        "plt.xlabel('índice de habitabilidad')\n",
        "plt.ylabel('Cantidad de planetas')\n",
        "plt.title('Planetas y su habitabilidad')"
      ],
      "execution_count": 0,
      "outputs": []
    },
    {
      "cell_type": "code",
      "metadata": {
        "id": "SNSFofoYTFxE",
        "colab_type": "code",
        "colab": {}
      },
      "source": [
        "#Histograma de los planetas habitables\n",
        "plt.figure(figsize = (10,10))\n",
        "plt.hist(habitables)\n",
        "plt.xlabel('índice de habitabilidad')\n",
        "plt.ylabel('Cantidad de planetas')\n",
        "plt.title('Planetas habitables')"
      ],
      "execution_count": 0,
      "outputs": []
    },
    {
      "cell_type": "markdown",
      "metadata": {
        "id": "n6PUFjOWTQJd",
        "colab_type": "text"
      },
      "source": [
        "Machine Learning"
      ]
    },
    {
      "cell_type": "code",
      "metadata": {
        "id": "6kSc1q_GTR3z",
        "colab_type": "code",
        "colab": {}
      },
      "source": [
        ""
      ],
      "execution_count": 0,
      "outputs": []
    }
  ]
}